{
 "cells": [
  {
   "cell_type": "code",
   "execution_count": 1,
   "id": "917ecab8",
   "metadata": {},
   "outputs": [
    {
     "name": "stderr",
     "output_type": "stream",
     "text": [
      "/usr/local/lib/python3.10/dist-packages/tqdm/auto.py:21: TqdmWarning: IProgress not found. Please update jupyter and ipywidgets. See https://ipywidgets.readthedocs.io/en/stable/user_install.html\n",
      "  from .autonotebook import tqdm as notebook_tqdm\n",
      "Loading checkpoint shards: 100%|█████████████████████████████████████████████████████████| 3/3 [00:02<00:00,  1.45it/s]\n"
     ]
    }
   ],
   "source": [
    "# Load model directly\n",
    "from transformers import AutoTokenizer, AutoModelForCausalLM\n",
    "\n",
    "tokenizer = AutoTokenizer.from_pretrained(\"taide/TAIDE-LX-7B-Chat\")\n",
    "# tokenizer = AutoTokenizer.from_pretrained(\"taide/TAIDE-LX-7B-Chat\", use_fast=False)\n",
    "model = AutoModelForCausalLM.from_pretrained(\"taide/TAIDE-LX-7B-Chat\")"
   ]
  },
  {
   "cell_type": "code",
   "execution_count": 2,
   "id": "38496efb",
   "metadata": {},
   "outputs": [
    {
     "data": {
      "text/plain": [
       "LlamaTokenizerFast(name_or_path='taide/TAIDE-LX-7B-Chat', vocab_size=56020, model_max_length=2048, is_fast=True, padding_side='right', truncation_side='right', special_tokens={'bos_token': '<s>', 'eos_token': '</s>', 'unk_token': '<unk>', 'pad_token': '<pad>'}, clean_up_tokenization_spaces=False),  added_tokens_decoder={\n",
       "\t0: AddedToken(\"<unk>\", rstrip=False, lstrip=False, single_word=False, normalized=True, special=True),\n",
       "\t1: AddedToken(\"<s>\", rstrip=False, lstrip=False, single_word=False, normalized=True, special=True),\n",
       "\t2: AddedToken(\"</s>\", rstrip=False, lstrip=False, single_word=False, normalized=True, special=True),\n",
       "\t32000: AddedToken(\"<pad>\", rstrip=False, lstrip=False, single_word=False, normalized=True, special=True),\n",
       "}"
      ]
     },
     "execution_count": 2,
     "metadata": {},
     "output_type": "execute_result"
    }
   ],
   "source": [
    "tokenizer"
   ]
  },
  {
   "cell_type": "code",
   "execution_count": 3,
   "id": "5d4d7a9d",
   "metadata": {},
   "outputs": [
    {
     "data": {
      "text/plain": [
       "LlamaForCausalLM(\n",
       "  (model): LlamaModel(\n",
       "    (embed_tokens): Embedding(56064, 4096)\n",
       "    (layers): ModuleList(\n",
       "      (0-31): 32 x LlamaDecoderLayer(\n",
       "        (self_attn): LlamaSdpaAttention(\n",
       "          (q_proj): Linear(in_features=4096, out_features=4096, bias=False)\n",
       "          (k_proj): Linear(in_features=4096, out_features=4096, bias=False)\n",
       "          (v_proj): Linear(in_features=4096, out_features=4096, bias=False)\n",
       "          (o_proj): Linear(in_features=4096, out_features=4096, bias=False)\n",
       "          (rotary_emb): LlamaRotaryEmbedding()\n",
       "        )\n",
       "        (mlp): LlamaMLP(\n",
       "          (gate_proj): Linear(in_features=4096, out_features=11008, bias=False)\n",
       "          (up_proj): Linear(in_features=4096, out_features=11008, bias=False)\n",
       "          (down_proj): Linear(in_features=11008, out_features=4096, bias=False)\n",
       "          (act_fn): SiLU()\n",
       "        )\n",
       "        (input_layernorm): LlamaRMSNorm((4096,), eps=1e-05)\n",
       "        (post_attention_layernorm): LlamaRMSNorm((4096,), eps=1e-05)\n",
       "      )\n",
       "    )\n",
       "    (norm): LlamaRMSNorm((4096,), eps=1e-05)\n",
       "    (rotary_emb): LlamaRotaryEmbedding()\n",
       "  )\n",
       "  (lm_head): Linear(in_features=4096, out_features=56064, bias=False)\n",
       ")"
      ]
     },
     "execution_count": 3,
     "metadata": {},
     "output_type": "execute_result"
    }
   ],
   "source": [
    "model"
   ]
  },
  {
   "cell_type": "code",
   "execution_count": 4,
   "id": "c2f3a0ca",
   "metadata": {},
   "outputs": [
    {
     "name": "stderr",
     "output_type": "stream",
     "text": [
      "Hardware accelerator e.g. GPU is available in the environment, but no `device` argument is passed to the `Pipeline` object. Model will be on CPU.\n"
     ]
    },
    {
     "name": "stdout",
     "output_type": "stream",
     "text": [
      "[{'generated_text': [{'role': 'system', 'content': '你是心理諮商師，負責解決病患的心理問題'}, {'role': 'user', 'content': '請問你是誰?'}, {'role': 'assistant', 'content': ' 我是Dr. Martha Lee，心理諮商師，專精於處理創傷後壓力症候群(PTSD)、失眠、以及情緒管理的議題。身為退伍軍人，我特別擅長處理軍人在軍中經歷所帶來的心理健康挑戰。我運用證據基礎的療法，如認知行為療法(CBT)、正念為基礎的療法(MBSR)，以及其他療法，幫助我的病人克服心理障礙，邁向更幸福、更平衡的生活。 '}]}]\n",
      "{'role': 'assistant', 'content': ' 我是Dr. Martha Lee，心理諮商師，專精於處理創傷後壓力症候群(PTSD)、失眠、以及情緒管理的議題。身為退伍軍人，我特別擅長處理軍人在軍中經歷所帶來的心理健康挑戰。我運用證據基礎的療法，如認知行為療法(CBT)、正念為基礎的療法(MBSR)，以及其他療法，幫助我的病人克服心理障礙，邁向更幸福、更平衡的生活。 '}\n"
     ]
    }
   ],
   "source": [
    "import torch\n",
    "from transformers import pipeline\n",
    "\n",
    "pipe = pipeline(\n",
    "    \"text-generation\",\n",
    "    model=model,\n",
    "    tokenizer=tokenizer,\n",
    "    torch_dtype=torch.bfloat16,\n",
    "    device_map=\"auto\",\n",
    "#     device=0,\n",
    ")\n",
    "messages = [\n",
    "    {\"role\": \"system\", \"content\": \"你是心理諮商師，負責解決病患的心理問題\"},\n",
    "    {\"role\": \"user\", \"content\": \"請問你是誰?\"},\n",
    "]\n",
    "outputs = pipe(\n",
    "    messages,\n",
    "    max_new_tokens=512,\n",
    ")\n",
    "print(outputs)\n",
    "print(outputs[0][\"generated_text\"][-1])"
   ]
  },
  {
   "cell_type": "code",
   "execution_count": 5,
   "id": "cfed10bc",
   "metadata": {},
   "outputs": [
    {
     "name": "stdout",
     "output_type": "stream",
     "text": [
      " 我是Dr. Martha Lee，心理諮商師，專精於處理創傷後壓力症候群(PTSD)、失眠、以及情緒管理的議題。身為退伍軍人，我特別擅長處理軍人在軍中經歷所帶來的心理健康挑戰。我運用證據基礎的療法，如認知行為療法(CBT)、正念為基礎的療法(MBSR)，以及其他療法，幫助我的病人克服心理障礙，邁向更幸福、更平衡的生活。 \n"
     ]
    }
   ],
   "source": [
    "print(outputs[0]['generated_text'][2]['content'])"
   ]
  },
  {
   "cell_type": "code",
   "execution_count": null,
   "id": "8ec20296",
   "metadata": {},
   "outputs": [],
   "source": []
  }
 ],
 "metadata": {
  "kernelspec": {
   "display_name": "Python 3 (ipykernel)",
   "language": "python",
   "name": "python3"
  },
  "language_info": {
   "codemirror_mode": {
    "name": "ipython",
    "version": 3
   },
   "file_extension": ".py",
   "mimetype": "text/x-python",
   "name": "python",
   "nbconvert_exporter": "python",
   "pygments_lexer": "ipython3",
   "version": "3.10.12"
  }
 },
 "nbformat": 4,
 "nbformat_minor": 5
}
