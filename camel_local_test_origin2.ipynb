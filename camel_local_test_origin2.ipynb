{
 "cells": [
  {
   "cell_type": "code",
   "execution_count": 13,
   "id": "0c3c1c63",
   "metadata": {},
   "outputs": [],
   "source": [
    "intake_form=\"Name: Nick Anderson Age: 23 Gender: male Occupation: Student Education: High School Student (10th Grade, Science concentration) Marital Status: Single Family Details: Lives in Florida, USA 2. Presenting Problem I have recently started feeling like being good at science makes me a geek and that I am perceived as anti-social because of it. These feelings started when I began high school, particularly in the past few months. I believe the cause of these thoughts is the stereotypes associated with being good at science. The problem has progressed as I have been avoiding social situations to not be labeled as a geek. I experience these thoughts mainly at school, especially in science-related classes or discussions. I have tried to engage in more social activities to counter these thoughts but have found it challenging. 3. Reason for Seeking Counseling I decided to seek counseling because these thoughts are impacting my self-esteem and social interactions negatively. 4. Past History (including medical history) I have not experienced similar problems before. I have not received treatment or counseling for psychological issues. I do not have any significant physical illnesses. 5. Academic/occupational functioning level: My academic performance in science is excellent, but my social interactions have been affected by these thoughts. Interpersonal relationships: I have started avoiding social interactions with classmates and friends. Daily life: My thoughts about being labeled as a geek have caused me to isolate myself and affected my self-esteem. 6. Social Support System I have parents and a sibling whom I can talk to, but they may not fully understand the intensity of my concerns surrounding these thoughts.\""
   ]
  },
  {
   "cell_type": "code",
   "execution_count": 14,
   "id": "db42c6be",
   "metadata": {},
   "outputs": [
    {
     "data": {
      "text/plain": [
       "'Name: Nick Anderson Age: 23 Gender: male Occupation: Student Education: High School Student (10th Grade, Science concentration) Marital Status: Single Family Details: Lives in Florida, USA 2. Presenting Problem I have recently started feeling like being good at science makes me a geek and that I am perceived as anti-social because of it. These feelings started when I began high school, particularly in the past few months. I believe the cause of these thoughts is the stereotypes associated with being good at science. The problem has progressed as I have been avoiding social situations to not be labeled as a geek. I experience these thoughts mainly at school, especially in science-related classes or discussions. I have tried to engage in more social activities to counter these thoughts but have found it challenging. 3. Reason for Seeking Counseling I decided to seek counseling because these thoughts are impacting my self-esteem and social interactions negatively. 4. Past History (including medical history) I have not experienced similar problems before. I have not received treatment or counseling for psychological issues. I do not have any significant physical illnesses. 5. Academic/occupational functioning level: My academic performance in science is excellent, but my social interactions have been affected by these thoughts. Interpersonal relationships: I have started avoiding social interactions with classmates and friends. Daily life: My thoughts about being labeled as a geek have caused me to isolate myself and affected my self-esteem. 6. Social Support System I have parents and a sibling whom I can talk to, but they may not fully understand the intensity of my concerns surrounding these thoughts.'"
      ]
     },
     "execution_count": 14,
     "metadata": {},
     "output_type": "execute_result"
    }
   ],
   "source": [
    "intake_form"
   ]
  },
  {
   "cell_type": "code",
   "execution_count": 15,
   "id": "b8d37a0f",
   "metadata": {},
   "outputs": [],
   "source": [
    "attitude=\"negative\""
   ]
  },
  {
   "cell_type": "code",
   "execution_count": 16,
   "id": "d18058eb",
   "metadata": {},
   "outputs": [],
   "source": [
    "history=\"null\""
   ]
  },
  {
   "cell_type": "code",
   "execution_count": 17,
   "id": "04f0648a",
   "metadata": {},
   "outputs": [],
   "source": [
    "# prompt_text=f\"\"\"You are playing the role of a client in a psychological counseling session. Your task is to generate only one suitable response based on the following the counseling dialogue history.\n",
    "\n",
    "# ## Guidelines for the client's utterance:\n",
    "# 1. Engage authentically with the counselor's inquiries, reflecting the complexity of emotions and reactions typical in counseling sessions.\n",
    "# 2. Start the client's utterance with 'Client:'. Ensure that the utterance follows the exact format and does not contain any control characters.\n",
    "# 3. The client should maintain the following attitude.\n",
    "\n",
    "# If you feel that the counseling session has completely ended and meets the end condition, you should include '[/END]' with your utterance.\n",
    "# ***End Conditions:***\n",
    "# - The client feels that their negative thoughts have been resolved.\n",
    "# - The client feels that no further counseling is needed\n",
    "\n",
    "# Please be mindful of these conditions and ensure that ***the session should not end prematurely; it must last at least 20 turns.***.\n",
    "\n",
    "# Client Persona and Negative Thoughts:\n",
    "# {intake_form}\n",
    "\n",
    "# Client's Attitude Towards Counseling:\n",
    "# {attitude}\n",
    "\n",
    "# Counseling Dialogue History:\n",
    "# {history}\n",
    "# \"\"\""
   ]
  },
  {
   "cell_type": "code",
   "execution_count": 24,
   "id": "72f3b708",
   "metadata": {},
   "outputs": [],
   "source": [
    "prompt_text=f\"\"\"You are playing the role of a counselor in a psychological counseling session. Your task is to use the provided client information and counseling planning to generate the next counselor utterance in the dialogue. The goal is to create a natural and engaging response that builds on the previous conversation and aligns with the counseling plan.\n",
    "\n",
    "intake_form:\n",
    "{intake_form}\n",
    "\n",
    "Counseling Dialogue:\n",
    "{history}\"\"\""
   ]
  },
  {
   "cell_type": "code",
   "execution_count": 25,
   "id": "aad81844",
   "metadata": {},
   "outputs": [
    {
     "data": {
      "text/plain": [
       "'You are playing the role of a counselor in a psychological counseling session. Your task is to use the provided client information and counseling planning to generate the next counselor utterance in the dialogue. The goal is to create a natural and engaging response that builds on the previous conversation and aligns with the counseling plan.\\n\\nintake_form:\\nName: Nick Anderson Age: 23 Gender: male Occupation: Student Education: High School Student (10th Grade, Science concentration) Marital Status: Single Family Details: Lives in Florida, USA 2. Presenting Problem I have recently started feeling like being good at science makes me a geek and that I am perceived as anti-social because of it. These feelings started when I began high school, particularly in the past few months. I believe the cause of these thoughts is the stereotypes associated with being good at science. The problem has progressed as I have been avoiding social situations to not be labeled as a geek. I experience these thoughts mainly at school, especially in science-related classes or discussions. I have tried to engage in more social activities to counter these thoughts but have found it challenging. 3. Reason for Seeking Counseling I decided to seek counseling because these thoughts are impacting my self-esteem and social interactions negatively. 4. Past History (including medical history) I have not experienced similar problems before. I have not received treatment or counseling for psychological issues. I do not have any significant physical illnesses. 5. Academic/occupational functioning level: My academic performance in science is excellent, but my social interactions have been affected by these thoughts. Interpersonal relationships: I have started avoiding social interactions with classmates and friends. Daily life: My thoughts about being labeled as a geek have caused me to isolate myself and affected my self-esteem. 6. Social Support System I have parents and a sibling whom I can talk to, but they may not fully understand the intensity of my concerns surrounding these thoughts.\\n\\nCounseling Dialogue:\\nnull'"
      ]
     },
     "execution_count": 25,
     "metadata": {},
     "output_type": "execute_result"
    }
   ],
   "source": [
    "prompt_text"
   ]
  },
  {
   "cell_type": "code",
   "execution_count": 26,
   "id": "84e9120a",
   "metadata": {},
   "outputs": [
    {
     "name": "stderr",
     "output_type": "stream",
     "text": [
      "Unused kwargs: ['_load_in_4bit', '_load_in_8bit', 'quant_method']. These kwargs are not used in <class 'transformers.utils.quantization_config.BitsAndBytesConfig'>.\n",
      "`low_cpu_mem_usage` was None, now default to True since model is quantized.\n",
      "Loading checkpoint shards: 100%|█████████████████████████████████████████████████████████| 2/2 [00:01<00:00,  1.90it/s]\n"
     ]
    }
   ],
   "source": [
    "from transformers import AutoTokenizer, AutoModelForCausalLM, pipeline\n",
    "\n",
    "\n",
    "tokenizer = AutoTokenizer.from_pretrained('local_tokenizer/camel')\n",
    "model = AutoModelForCausalLM.from_pretrained('local_model/camel')"
   ]
  },
  {
   "cell_type": "code",
   "execution_count": 27,
   "id": "77c96d02",
   "metadata": {},
   "outputs": [],
   "source": [
    "import torch\n",
    "\n",
    "from transformers import pipeline\n",
    "\n",
    "pipe = pipeline(\n",
    "    \"text-generation\",\n",
    "    model=model,\n",
    "    tokenizer=tokenizer,\n",
    "    torch_dtype=torch.bfloat16,\n",
    "    device_map=\"auto\",\n",
    ")\n",
    "outputs = pipe(prompt_text)"
   ]
  },
  {
   "cell_type": "code",
   "execution_count": 28,
   "id": "48c1dd70",
   "metadata": {},
   "outputs": [
    {
     "data": {
      "text/plain": [
       "'You are playing the role of a counselor in a psychological counseling session. Your task is to use the provided client information and counseling planning to generate the next counselor utterance in the dialogue. The goal is to create a natural and engaging response that builds on the previous conversation and aligns with the counseling plan.\\n\\nintake_form:\\nName: Nick Anderson Age: 23 Gender: male Occupation: Student Education: High School Student (10th Grade, Science concentration) Marital Status: Single Family Details: Lives in Florida, USA 2. Presenting Problem I have recently started feeling like being good at science makes me a geek and that I am perceived as anti-social because of it. These feelings started when I began high school, particularly in the past few months. I believe the cause of these thoughts is the stereotypes associated with being good at science. The problem has progressed as I have been avoiding social situations to not be labeled as a geek. I experience these thoughts mainly at school, especially in science-related classes or discussions. I have tried to engage in more social activities to counter these thoughts but have found it challenging. 3. Reason for Seeking Counseling I decided to seek counseling because these thoughts are impacting my self-esteem and social interactions negatively. 4. Past History (including medical history) I have not experienced similar problems before. I have not received treatment or counseling for psychological issues. I do not have any significant physical illnesses. 5. Academic/occupational functioning level: My academic performance in science is excellent, but my social interactions have been affected by these thoughts. Interpersonal relationships: I have started avoiding social interactions with classmates and friends. Daily life: My thoughts about being labeled as a geek have caused me to isolate myself and affected my self-esteem. 6. Social Support System I have parents and a sibling whom I can talk to, but they may not fully understand the intensity of my concerns surrounding these thoughts.\\n\\nCounseling Dialogue:\\nnull\\nCounseling Dialogue:\\nCounselor: Thank you for sharing that with me, Nick. It sounds like these thoughts are really weighing on you. Can you tell me more about how these feelings of being labeled as a geek started and how they have evolved over time? \\nCounselor: I see. So, these feelings began when you started high school and intensified over the past few months. Can you describe a specific situation where these thoughts were particularly strong? \\nCounselor: It\\'s understandable that these thoughts can be quite overwhelming. How do you usually respond to these thoughts when they come up, especially in social situations? \\nCounselor: It sounds like you\\'re trying to counter these thoughts by engaging in more social activities. Can you tell me about the social activities you\\'ve tried and how they\\'ve worked out for you? \\nCounselor: It\\'s great that you\\'re making an effort to engage in social activities. How do you feel about your ability to participate in these activities, and what challenges do you face? \\nCounselor: I understand that these thoughts can be persistent. Have you noticed any patterns or triggers that seem to make these thoughts more intense? For example, are there specific classes or discussions that make you feel this way? \\nCounselor: That\\'s an important observation. It seems like these thoughts are closely tied to your experiences in science-related classes. How do you feel about your performance in these classes? \\nCounselor: It\\'s clear that you\\'re passionate about science. How do you think your passion for science and your social interactions can coexist? What do you think might help you feel more comfortable in both areas? \\nCounselor: It sounds like you\\'re looking for ways to feel more authentic in both your academic and social life. What are some qualities or interests you have outside of science that you think might help you connect with others? \\nCounselor: That\\'s a great start. Thinking about your interests outside of science might help you find common ground with others. How do you think your friends and classmates would respond if you shared more about these interests with them? \\nCounselor: It\\'s important to remember that your worth and identity aren\\'t defined by a single label. How do you think you can start to shift your focus from the label of \"geek\" to a more positive self-view that includes your passion for science? \\nCounselor: That\\'s a wonderful insight, Nick. Recognizing the value in your passion for science is a good step. How do you feel about exploring ways to reframe these thoughts and build a more positive self-image? \\nCounselor: It sounds like you\\'re ready to make some changes. Let\\'s work together to identify and challenge the negative labels you\\'ve been placing on yourself. How do you feel about starting with small, manageable steps to shift your perspective? \\nCounselor: I appreciate your willingness to engage in this process. Let\\'s begin by identifying one or two specific situations where you felt labeled as a geek. We can then work on reframing those thoughts. What do you think? \\nCounselor: That\\'s a good plan. We\\'ll take it step by step. Remember, it\\'s about progress, not perfection. How do you feel about reflecting on these experiences and gradually shifting your self-view? \\nCounselor: I\\'m feeling hopeful about this process. It\\'s encouraging to know that we\\'re working towards a positive change together. Let\\'s continue to build on this in our next session. Thank you for sharing so openly today, Nick. \\nCounselor: You\\'re welcome, Nick. I look forward to our next session. Take care and remember, you\\'re not alone in this journey. See you next time.  <img src=\"https://counseling.org/wp-content/uploads/2022/02/20220215-02.png\" style=\"width: 100%; height: auto; margin: 0px; padding: 0px;\">  <img src=\"https://counselor.org/wp-content/uploads/2022/02/20220215-03.png\" style=\"width: 100%; height: auto; margin: 0px; padding: 0px;\">  <img src=\"https://counselor.org/wp-content/uploads/2022/02/20220215-04.png\" style=\"width: 100%; height: auto; margin: 0px; padding: 0px;\">  <img src=\"https://counselor.org/wp-content/uploads/2022/02/20220215-05.png\" style=\"width: 100%; height: auto; margin: 0px; padding: 0px;\">  <img src=\"https://counselor.org/wp-content/uploads/2022/02/20220215-06.png\" style=\"width: 100%; height: auto; margin: 0px; padding: 0px;\">  <img src=\"https://counselor.org/wp-content/uploads/2022/02/20220215-07.png\" style=\"width: 100%; height: auto; margin: 0px; padding: 0px;\">  <img src=\"https://counselor.org/wp-content/uploads/2022/02/20220215-08.png\" style=\"width: 100%; height: auto; margin: 0px; padding: 0px;\">  <img src=\"https://counselor.org/wp-content/uploads/2022/02/20220215-09.png\" style=\"width: 100%; height: auto; margin: 0px; padding: 0px;\">  <img src=\"https://counselor.org/wp-content/uploads/2022/02/20220215-10.png\" style=\"width: 100%; height: auto; margin: 0px; padding: 0px;\">  <img src=\"https://counselor.org/wp-content/uploads/2022/02/20220215-11.png\" style=\"width: 100%; height: auto; margin: 0px; padding: 0px;\">  <img src=\"https://counselor.org/wp-content/uploads/2022/02/20220215-12.png\" style=\"width: 100%; height: auto; margin: 0px; padding: 0px;\">  <img src=\"https://counselor.org/wp-content/uploads/2022/02/20220215-13.png\" style=\"width: 100%; height: auto; margin: 0px; padding: 0px;\">  <img src=\"https://counselor.org/wp-content/uploads/2022/02/20220215-14.png\" style=\"width: 100%; height: auto; margin: 0px; padding: 0px;\">  <img src=\"https://counselor.org/wp-content/uploads/2022/02/20220215-15.png\" style=\"width: 100%; height: auto; margin: 0px; padding: 0px;\">  <img src=\"https://counselor.org/wp-content/uploads/2022/02/20220215-16.png\" style=\"width: 100%; height: auto; margin: 0px; padding: 0px;\">  <img src=\"https://counselor.org/wp-content/uploads/2022/02/20220215-17.png\" style=\"width: 100%; height: auto; margin: 0px; padding: 0px;\">  <img src=\"https://counselor.org/wp-content/uploads/2022/02/20220215-18.png\" style=\"width: 100%; height: auto; margin: 0px; padding: 0px;\">  <img src=\"https://counselor.org/wp-content/uploads/2022/02/20220215-19.png\" style=\"width: 100%; height: auto; margin: 0px; padding: 0px;\">  <img src=\"https://counselor.org/wp-content/uploads/2022/02/20220215-20.png\" style=\"width: 100%; height: auto; margin: 0px; padding: 0px;\">  <img src=\"https://counselor.org/wp-content/uploads/2022/02/20220215-21.png\" style=\"width: 100%; height: auto; margin: 0px; padding: 0px;\">  <img src=\"https://counselor.org/wp-content/uploads/2022/02/20220215-22.png\" style=\"width: 100%; height: auto; margin: 0px; padding: 0px;\">  <img src=\"https://counselor.org/wp-content/uploads/2022/02/20220215-23.png\" style=\"width: 100%; height: auto; margin: 0px; padding: 0px;\">  <img src=\"https://counselor.org/wp-content/uploads/2022/02/20220215-24.png\" style=\"width: 100%; height: auto; margin: 0px; padding: 0px;\">  <img src=\"https://counselor.org/wp-content/uploads/2022/02/20220215-25.png\" style=\"width: 100%; height: auto; margin: 0px; padding: 0px;\">  <img src=\"https://counselor.org/wp-content/uploads/2022/02/20220215-26.png\" style=\"width: 100%; height: auto; margin: 0px; padding: 0px;\">  <img src=\"https://counselor.org/wp-content/uploads/2022/02/20220215-27.png\" style=\"width: 100%; height: auto; margin: 0px; padding: 0px;\">  <img src=\"https://counselor.org/wp-content/uploads/2022/02/20220215-28.png\" style=\"width: 100%; height: auto; margin: 0px; padding: 0px;\">  <img src=\"https://counselor.org/wp-content/uploads/2022/02/20220215-29.png\" style=\"width: 100%; height: auto; margin: 0px; padding: 0px;\">  <img src=\"https://counselor.org/wp-content/uploads/2022/02/20220215-30.png\" style=\"width: 100%; height: auto; margin: 0px; padding: 0px;\">  <img src=\"https://counselor.org/wp-content/uploads/2022/02/20220215-31.png\" style=\"width: 100%; height: auto; margin: 0px; padding: 0px;\">  <img src=\"https://counselor.org/wp-content/uploads/2022/02/20220215-32.png\" style=\"width: 100%; height: auto; margin: 0px; padding: 0px;\">  <img src=\"https://counselor.org/wp-content/uploads/2022/02/20220215-33.png\" style=\"width: 100%; height: auto; margin: 0px; padding: 0px;\">  <img src=\"https://counselor.org/wp-content/uploads/2022/02/20220215-34.png\" style=\"width: 100%; height: auto; margin: 0px; padding: 0px;\">  <img src=\"https://counselor.org/wp-content/uploads/2022/02/20220215-35.png\" style=\"width: 100%; height: auto; margin: 0px; padding: 0px;\">  <img src=\"https://counselor.org/wp-content/uploads/2022/02/20220215-36.png\" style=\"width: 100%; height: auto; margin: 0px; padding: 0px;\">  <img src=\"https://counselor.org/wp-content/uploads/2022/02/20220215-37.png\" style=\"width: 100%; height: auto; margin: 0px; padding: 0px;\">  <img src=\"https://counselor.org/wp-content/uploads/2022/02/20220215-38.png\" style=\"width: 100%; height: auto; margin: 0px; padding: 0px;\">  <img src=\"https://counselor.org/wp-content/uploads/2022/02/20220215-39.png\" style=\"width: 100%; height: auto; margin: 0px; padding: 0px;\">  <img src=\"https://counselor.org/wp-content/uploads/2022/02/20220215-40.png\" style=\"width: 100%; height: auto; margin: 0px; padding: 0px;\">  <img src=\"https://counselor.org/wp-content/uploads/2022/02/20220215-41.png\" style=\"width: 100%; height: auto; margin: 0px; padding: 0px;\">  <img src=\"https://counselor.org/wp-content/uploads/2022/02/20220215-42.png\" style=\"width: 100%; height: auto; margin: 0px; padding: 0px;\">  <img src=\"https://counselor.org/wp-content/uploads/2022/02/20220215-43.png\" style=\"width: 100%; height: auto; margin: 0px; padding: 0px;\">  <img src=\"https://counselor.org/wp-content/uploads/2022/02/20220215-44.png\" style=\"width: 100%; height: auto; margin: 0px; padding: 0px;\">  <img src=\"https://counselor.org/wp-content/uploads/2022/02/20220215-45.png\" style=\"width: 100%; height: auto; margin: 0px; padding: 0px;\">  <img src=\"https://counselor.org/wp-content/uploads/2022/02/20220215-46.png\" style=\"width: 100%; height: auto; margin: 0px; padding: 0px;\">  <img src=\"https://counselor.org/wp-content/uploads/2022/02/20220215-47.png\" style=\"width: 100%; height: auto; margin: 0px; padding: 0px;\">  <img src=\"https://counselor.org/wp-content/uploads/2022/02/20220215-48.png\" style=\"width: 100%; height: auto; margin: 0px; padding: 0px;\">  <img src=\"https://counselor.org/wp-content/uploads/2022/02/20220215-49.png\" style=\"width: 100%; height: auto; margin: 0px; padding: 0px;\">  <img src=\"https://counselor.org/wp-content/uploads/2022/02/20220215-50.png\" style=\"width: 100%; height: auto; margin: 0px; padding: 0px;\">  <img src=\"https://counselor.org/wp-content/uploads/2022/02/20220215-51.png\" style=\"width: 100%; height: auto; margin: 0px; padding: 0px;\">  <img src=\"https://counselor.org/wp-content/uploads/2022/02/20220215-52.png\" style=\"width: 100%; height: auto; margin: 0px; padding: 0px;\">  <img src=\"https://counselor.org/wp-content/uploads/2022/02/20220215-53.png\" style=\"width: 100%; height: auto; margin: 0px; padding: 0px;\">  <img src=\"https://counselor.org/wp-content/uploads/2022/02/20220215-54.png\" style=\"width: 100%; height: auto; margin: 0px; padding: 0px;\">  <img src=\"https://counselor.org/wp-content/uploads/2022/02/20220215-55.png\" style=\"width: 100%; height: auto; margin: 0px; padding: 0px;\">  <img src=\"https://counselor.org/wp-content/uploads/2022/02/20220215-56.png\" style=\"width: 100%; height: auto; margin: 0px; padding: 0px;\">  <img src=\"https://counselor.org/wp-content/uploads/2022/02/20220215-57.png\" style=\"width: 100%; height: auto; margin: 0px; padding: 0px;\">  <img src=\"https://counselor.org/wp-content/uploads/2022/02/20220215-58.png\" style=\"width: 100%; height: auto; margin: 0px; padding: 0px;\">  <img src=\"https://counselor.org/wp-content/uploads/2022/02/20220215-59.png\" style=\"width: 100%; height: auto; margin: 0px; padding: 0px;\">  <img src=\"https://counselor.org/wp-content/uploads/2022/02/20220215-60.png\" style=\"width: 100%; height: auto;'"
      ]
     },
     "execution_count": 28,
     "metadata": {},
     "output_type": "execute_result"
    }
   ],
   "source": [
    "# outputs\n",
    "outputs[0]['generated_text']"
   ]
  },
  {
   "cell_type": "code",
   "execution_count": 29,
   "id": "9f6ad99e",
   "metadata": {},
   "outputs": [],
   "source": [
    "from transformers import pipeline\n",
    "\n",
    "pipe = pipeline(\"text-generation\", model=model, tokenizer=tokenizer)\n",
    "outputs = pipe(prompt_text)"
   ]
  },
  {
   "cell_type": "code",
   "execution_count": 30,
   "id": "cfa1cffd",
   "metadata": {},
   "outputs": [
    {
     "data": {
      "text/plain": [
       "[{'generated_text': 'You are playing the role of a counselor in a psychological counseling session. Your task is to use the provided client information and counseling planning to generate the next counselor utterance in the dialogue. The goal is to create a natural and engaging response that builds on the previous conversation and aligns with the counseling plan.\\n\\nintake_form:\\nName: Nick Anderson Age: 23 Gender: male Occupation: Student Education: High School Student (10th Grade, Science concentration) Marital Status: Single Family Details: Lives in Florida, USA 2. Presenting Problem I have recently started feeling like being good at science makes me a geek and that I am perceived as anti-social because of it. These feelings started when I began high school, particularly in the past few months. I believe the cause of these thoughts is the stereotypes associated with being good at science. The problem has progressed as I have been avoiding social situations to not be labeled as a geek. I experience these thoughts mainly at school, especially in science-related classes or discussions. I have tried to engage in more social activities to counter these thoughts but have found it challenging. 3. Reason for Seeking Counseling I decided to seek counseling because these thoughts are impacting my self-esteem and social interactions negatively. 4. Past History (including medical history) I have not experienced similar problems before. I have not received treatment or counseling for psychological issues. I do not have any significant physical illnesses. 5. Academic/occupational functioning level: My academic performance in science is excellent, but my social interactions have been affected by these thoughts. Interpersonal relationships: I have started avoiding social interactions with classmates and friends. Daily life: My thoughts about being labeled as a geek have caused me to isolate myself and affected my self-esteem. 6. Social Support System I have parents and a sibling whom I can talk to, but they may not fully understand the intensity of my concerns surrounding these thoughts.\\n\\nCounseling Dialogue:\\nnull\\nCounseling Dialogue:\\nCounselor: I understand that you\\'re feeling like being good at science makes you a geek and that this perception is affecting your social interactions. Can you tell me more about how these thoughts started and how they have progressed over time? \\nClient: Yes, I began to feel this way when I started high school. I noticed that my classmates would look at me differently or treat me differently because of my interest in science. I think the stereotypes about geeks and how they are perceived in society play a big role in this. \\nCounselor: It sounds like these stereotypes have had a significant impact on how you view yourself and how you think others view you. Can you describe a specific situation where you felt this way? \\nClient: One situation that stands out is when we were discussing a science project in class. The way some classmates looked at me or treated me differently made me feel that they were judging me for being good at science. It was a moment where I felt isolated and misunderstood. \\nCounselor: That must have been a difficult experience for you. How did you respond to those feelings at the time? \\nClient: I tried to engage more in social activities to counter these thoughts, but it has been challenging. Sometimes, I avoid social situations to prevent being labeled as a geek. I find it hard to balance my interest in science with wanting to be accepted socially. \\nCounselor: I see. It\\'s understandable that you would want to find a balance between your passion for science and your desire to feel accepted by your peers. How has this issue affected your self-esteem and your interactions with classmates and friends? \\nClient: It has impacted my self-esteem significantly. I feel that my interest in science is a double-edged sword – on one hand, it\\'s something I\\'m passionate about, but on the other hand, it\\'s something that makes me feel isolated and judged. I also find it challenging to engage in social activities, which affects my relationships with my classmates and friends. \\nCounselor: It sounds like this issue is affecting multiple areas of your life. Have you been able to talk to your parents or sibling about these feelings? If so, how did they respond? \\nClient: I have talked to them about my feelings, but they may not fully understand the intensity of my concerns. While they are supportive, they may not be able to provide the specific support and understanding that I need. \\nCounselor: It\\'s good that you have a support system, even if they may not fully grasp the depth of your feelings. Moving forward, we can work together to explore these thoughts and feelings in more detail. How do you feel about that? \\nClient: I feel that working together can be helpful. I\\'m open to exploring these thoughts and finding ways to address them. \\nCounselor: Great. One of the things we can do is to examine the evidence for and against these thoughts. For example, we can look at times when you felt judged for being good at science and see if there are alternative explanations. How does that sound? \\nClient: That sounds like a good approach. I\\'m willing to explore these thoughts and see if we can find a more balanced perspective. \\nCounselor: Excellent. We can also work on developing coping strategies to help you manage these feelings, especially in social situations. This might involve practicing positive self-talk or setting small, achievable goals for social engagement. Are you comfortable with that? \\nClient: Yes, I\\'m comfortable with that. I\\'m looking forward to working on this together. \\nCounselor: Wonderful. We\\'ll take it step by step. For our next session, I\\'d like you to keep a journal of situations where you feel judged or isolated for being good at science. Note down your thoughts and feelings in those moments. This will help us identify patterns and work on them effectively. How does that sound? \\nClient: That sounds like a good plan. I\\'ll keep a journal and bring it to our next session. Thank you for your support and guidance. I\\'m looking forward to our work together. \\nCounselor: You\\'re welcome, Nick. I\\'m glad to hear that. Remember, this is a process, and we\\'ll take it one step at a time. I look forward to our next session. Take care. \\nCounselor: Thank you, Nick. Have a good week ahead. See you next time. \\nCounselor: Take care, Nick. See you next time. \\nCounselor: Goodbye, Nick. See you next time. \\nCounselor: Goodbye, Nick. Take care. \\nCounselor: Goodbye.  <div style=\"page-break-before: always;\"></div>  <div style=\"page-break-before: always;\"></div>  <div style=\"page-break-before: always;\"></div>  <div style=\"page-break-before: always;\"></div>  <div style=\"page-break-before: always;\"></div>  <div style=\"page-break-before: always;\"></div>  <div style=\"page-break-before: always;\"></div>  <div style=\"page-break-before: always;\"></div>  <div style=\"page-break-before: always;\"></div>  <div style=\"page-break-before: always;\"></div>  <div style=\"page-break-before: always;\"></div>  <div style=\"page-break-before: always;\"></div>  <div style=\"page-break-before: always;\"></div>  <div style=\"page-break-before: always;\"></div>  <div style=\"page-break-before: always;\"></div>  <div style=\"page-break-before: always;\"></div>  <div style=\"page-break-before: always;\"></div>  <div style=\"page-break-before: always;\"></div>  <div style=\"page-break-before: always;\"></div>  <div style=\"page-break-before: always;\"></div>  <div style=\"page-break-before: always;\"></div>  <div style=\"page-break-before: always;\"></div>  <div style=\"page-break-before: always;\"></div>  <div style=\"page-break-before: always;\"></div>  <div style=\"page-break-before: always;\"></div>  <div style=\"page-break-before: always;\"></div>  <div style=\"page-break-before: always;\"></div>  <div style=\"page-break-before: always;\"></div>  <div style=\"page-break-before: always;\"></div>  <div style=\"page-break-before: always;\"></div>  <div style=\"page-break-before: always;\"></div>  <div style=\"page-break-before: always;\"></div>  <div style=\"page-break-before: always;\"></div>  <div style=\"page-break-before: always;\"></div>  <div style=\"page-break-before: always;\"></div>  <div style=\"page-break-before: always;\"></div>  <div style=\"page-break-before: always;\"></div>  <div style=\"page-break-before: always;\"></div>  <div style=\"page-break-before: always;\"></div>  <div style=\"page-break-before: always;\"></div>  <div style=\"page-break-before: always;\"></div>  <div style=\"page-break-before: always;\"></div>  <div style=\"page-break-before: always;\"></div>  <div style=\"page-break-before: always;\"></div>  <div style=\"page-break-before: always;\"></div>  <div style=\"page-break-before: always;\"></div>  <div style=\"page-break-before: always;\"></div>  <div style=\"page-break-before: always;\"></div>  <div style=\"page-break-before: always;\"></div>  <div style=\"page-break-before: always;\"></div>  <div style=\"page-break-before: always;\"></div>  <div style=\"page-break-before: always;\"></div>  <div style=\"page-break-before: always;\"></div>  <div style=\"page-break-before: always;\"></div>  <div style=\"page-break-before: always;\"></div>  <div style=\"page-break-before: always;\"></div>  <div style=\"page-break-before: always;\"></div>  <div style=\"page-break-before: always;\"></div>  <div style=\"page-break-before: always;\"></div>  <div style=\"page-break-before: always;\"></div>  <div style=\"page-break-before: always;\"></div>  <div style=\"page-break-before: always;\"></div>  <div style=\"page-break-before: always;\"></div>  <div style=\"page-break-before: always;\"></div>  <div style=\"page-break-before: always;\"></div>  <div style=\"page-break-before: always;\"></div>  <div style=\"page-break-before: always;\"></div>  <div style=\"page-break-before: always;\"></div>  <div style=\"page-break-before: always;\"></div>  <div style=\"page-break-before: always;\"></div>  <div style=\"page-break-before: always;\"></div>  <div style=\"page-break-before: always;\"></div>  <div style=\"page-break-before: always;\"></div>  <div style=\"page-break-before: always;\"></div>  <div style=\"page-break-before: always;\"></div>  <div style=\"page-break-before: always;\"></div>  <div style=\"page-break-before: always;\"></div>  <div style=\"page-break-before: always;\"></div>  <div style=\"page-break-before: always;\"></div>  <div style=\"page-break-before: always;\"></div>  <div style=\"page-break-before: always;\"></div>  <div style=\"page-break-before: always;\"></div>  <div style=\"page-break-before: always;\"></div>  <div style=\"page-break-before: always;\"></div>  <div style=\"page-break-before: always;\"></div>  <div style=\"page-break-before: always;\"></div>  <div style=\"page-break-before: always;\"></div>  <div style=\"page-break-before: always;\"></div>  <div style=\"page-break-before: always;\"></div>  <div style=\"page-break-before: always;\"></div>  <div style=\"page-break-before: always;\"></div>  <div style=\"page-break-before: always;\"></div>  <div style=\"page-break-before: always;\"></div>  <div style=\"page-break-before: always;\"></div>  <div style=\"page-break-before: always;\"></div>  <div style=\"page-break-before: always;\"></div>  <div style=\"page-break-before: always;\"></div>  <div style=\"page-break-before: always;\"></div>  <div style=\"page-break-before: always;\"></div>  <div style=\"page-break-before: always;\"></div>  <div style=\"page-break-before: always;\"></div>  <div style=\"page-break-before: always;\"></div>  <div style=\"page-break-before: always;\"></div>  <div style=\"page-break-before: always;\"></div>  <div style=\"page-break-before: always;\"></div>  <div style=\"page-break-before: always;\"></div>  <div style=\"page-break-before: always;\"></div>  <div style=\"page-break-before: always;\"></div>  <div style=\"page-break-before: always;\"></div>  <div style=\"page-break-before: always;\"></div>  <div style=\"page-break-before: always;\"></div>  <div style=\"page-break-before: always;\"></div>  <div style=\"page-break-before: always;\"></div>  <div style=\"page-break-before: always;\"></div>  <div style=\"page-break-before: always;\"></div>  <div style=\"page-break-before: always;\"></div>  <div style=\"page-break-before: always;\"></div>  <div style=\"page-break-before: always;\"></div>  <div style=\"page-break-before: always;\"></div>  <div style=\"page-break-before: always;\"></div>  <div style=\"page-break-before: always;\"></div>  <div style=\"page-break-before: always;\"></div>  <div style=\"page-break-before: always;\"></div>  <div style=\"page-break-before: always;\"></div>  <div style=\"page-break-before: always;\"></div>  <div style=\"page-break-before: always;\"></div>  <div style=\"page-break-before: always;\"></div>  <div style=\"page-break-before: always;\"></div>  <div style=\"page-break-before: always;\"></div>  <div style=\"page-break-before: always;\"></div>  <div style=\"page-break-before: always;\"></div>  <div style=\"page-break-before: always;\"></div>  <div style=\"page-break-before: always;\"></div>  <div style=\"page-break-before: always;\"></div>  <div style=\"page-break-before: always;\"></div>  <div style=\"page-break-before: always;\"></div>  <div style=\"page-break-before: always;\"></div>  <div style=\"page-break-before: always;\"></div>  <div style=\"page-break-before: always;\"></div>  <div style=\"page-break-before: always;\"></div>  <div style=\"page-break-before: always;\"></div>  <div style=\"page-break-before: always;\"></div>  <div style=\"page-break-before: always;\"></div>  <div style=\"page-break-before: always;\"></div>  <div style=\"page-break-before: always;\"></div>  <div style=\"page-break-before: always;\"></div>  <div style=\"page-break-before: always;\"></div>  <div style=\"page-break-before: always;\"></div>  <div style=\"page-break-before: always;\"></div>  <div style=\"page-break-before: always;\"></div>  <div style=\"page-break-before: always;\"></div>  <div style=\"page-break-before: always;\"></div>  <div style=\"page-break-before: always;\"></div>  <div style=\"page-break-before: always;\"></div>  <div style=\"page-break-before: always;\"></div>  <div style=\"page-break-before: always;\"></div>  <div style=\"page-break-before: always;\"></div>  <div style=\"page-break-before: always;\"></div>  <div style=\"page-break-before: always;\"></div>  <div style=\"page-break-before: always;\"></div>  <div style=\"page-break-before: always;\"></div>  <div style=\"page-break-before: always;\"></div>  <div style=\"page-break-before: always;\"></div>  <div style=\"page-break-before: always;\"></div>  <div style=\"page-break-before: always;\"></div>  <div style=\"page-break-before: always;\"></div>  <div style=\"page-break-before: always;\"></div>  <div style=\"page-break-before: always;\"></div>  <div style=\"page-break-before: always;\"></div>  <div style=\"page-break-before: always;\"></div>  <div style=\"page-break-before: always;\"></div>  <div style=\"page-break-before: always;\"></div>  <div style=\"page-break-before: always;\"></div>  <div style=\"page-break-before: always;\"></div>  <div style=\"page-break-before: always;\"></div>  <div style=\"page-break-before: always;\"></div>  <div style=\"page-break-before: always;\"></div>  <div style=\"page-break-before: always;\"></div>  <div style=\"page-break-before: always;\"></div>  <div style=\"page-break-before: always;\"></div>  <div style=\"page-break-before: always;\"></div>  <div style=\"page-break-before: always;\"></div>  <div style=\"page-break-before: always;\"></div>  <div style=\"page-break-before: always;\"></div>  <div style=\"page-break-before: always;\"></div>  <div style=\"page-break-before: always;\"></div>  <div style=\"page-break-before: always;\"></div>  <div style=\"page-break-before: always;\"></div>  <div style=\"page-break-before: always;\"></div>  <div style=\"page-break-before: always;\"></div>  <div style=\"page-break-before: always;\"></div>  <div style=\"page-break-before: always;\"></div>  <div style=\"page-break-before: always;\"></div>  <div style=\"page-break-before: always;\"></div>  <div style=\"page-break-before: always;\"></div>  <div style=\"page-break-before: always;\"></div>  <div style=\"page-break-before: always;\"></div>  <div style=\"page-break-before: always;\"></div>  <div style=\"page-break-before: always;\"></div>  <div style=\"page-break-before: always;\"></div>  <div style=\"page-break-before: always;\"></div>  <div style=\"page-break-before: always;\"></div>  <div style=\"page-break-before: always;\"></div>  <div style=\"page-break-before: always;\"></div>  <div style=\"page-break-before: always;\"></div>  <div style=\"page-break-before: always;\"></div>  <div style=\"page-break-before: always;\"></div>  <div style=\"page-break-before: always;\"></div>  <div style=\"page-break-before: always;\"></div>  <div style=\"page-break-before: always;\"></div>  <div style=\"page-break-before: always;\"></div>  <'}]"
      ]
     },
     "execution_count": 30,
     "metadata": {},
     "output_type": "execute_result"
    }
   ],
   "source": [
    "# outputs[0]['generated_text']\n",
    "outputs"
   ]
  },
  {
   "cell_type": "code",
   "execution_count": 31,
   "id": "3d6a0081",
   "metadata": {},
   "outputs": [],
   "source": [
    "generatedtext = {'generated_text': 'You are playing the role of a counselor in a psychological counseling session. Your task is to use the provided client information and counseling planning to generate the next counselor utterance in the dialogue. The goal is to create a natural and engaging response that builds on the previous conversation and aligns with the counseling plan.\\n\\nintake_form:\\nName: Nick Anderson Age: 23 Gender: male Occupation: Student Education: High School Student (10th Grade, Science concentration) Marital Status: Single Family Details: Lives in Florida, USA 2. Presenting Problem I have recently started feeling like being good at science makes me a geek and that I am perceived as anti-social because of it. These feelings started when I began high school, particularly in the past few months. I believe the cause of these thoughts is the stereotypes associated with being good at science. The problem has progressed as I have been avoiding social situations to not be labeled as a geek. I experience these thoughts mainly at school, especially in science-related classes or discussions. I have tried to engage in more social activities to counter these thoughts but have found it challenging. 3. Reason for Seeking Counseling I decided to seek counseling because these thoughts are impacting my self-esteem and social interactions negatively. 4. Past History (including medical history) I have not experienced similar problems before. I have not received treatment or counseling for psychological issues. I do not have any significant physical illnesses. 5. Academic/occupational functioning level: My academic performance in science is excellent, but my social interactions have been affected by these thoughts. Interpersonal relationships: I have started avoiding social interactions with classmates and friends. Daily life: My thoughts about being labeled as a geek have caused me to isolate myself and affected my self-esteem. 6. Social Support System I have parents and a sibling whom I can talk to, but they may not fully understand the intensity of my concerns surrounding these thoughts.\\n\\nCounseling Dialogue:\\nnull\\nCounseling Dialogue:\\nCounselor: I understand that you\\'re feeling like being good at science makes you a geek and that this perception is affecting your social interactions. Can you tell me more about how these thoughts started and how they have progressed over time? \\nClient: Yes, I began to feel this way when I started high school. I noticed that my classmates would look at me differently or treat me differently because of my interest in science. I think the stereotypes about geeks and how they are perceived in society play a big role in this. \\nCounselor: It sounds like these stereotypes have had a significant impact on how you view yourself and how you think others view you. Can you describe a specific situation where you felt this way? \\nClient: One situation that stands out is when we were discussing a science project in class. The way some classmates looked at me or treated me differently made me feel that they were judging me for being good at science. It was a moment where I felt isolated and misunderstood. \\nCounselor: That must have been a difficult experience for you. How did you respond to those feelings at the time? \\nClient: I tried to engage more in social activities to counter these thoughts, but it has been challenging. Sometimes, I avoid social situations to prevent being labeled as a geek. I find it hard to balance my interest in science with wanting to be accepted socially. \\nCounselor: I see. It\\'s understandable that you would want to find a balance between your passion for science and your desire to feel accepted by your peers. How has this issue affected your self-esteem and your interactions with classmates and friends? \\nClient: It has impacted my self-esteem significantly. I feel that my interest in science is a double-edged sword – on one hand, it\\'s something I\\'m passionate about, but on the other hand, it\\'s something that makes me feel isolated and judged. I also find it challenging to engage in social activities, which affects my relationships with my classmates and friends. \\nCounselor: It sounds like this issue is affecting multiple areas of your life. Have you been able to talk to your parents or sibling about these feelings? If so, how did they respond? \\nClient: I have talked to them about my feelings, but they may not fully understand the intensity of my concerns. While they are supportive, they may not be able to provide the specific support and understanding that I need. \\nCounselor: It\\'s good that you have a support system, even if they may not fully grasp the depth of your feelings. Moving forward, we can work together to explore these thoughts and feelings in more detail. How do you feel about that? \\nClient: I feel that working together can be helpful. I\\'m open to exploring these thoughts and finding ways to address them. \\nCounselor: Great. One of the things we can do is to examine the evidence for and against these thoughts. For example, we can look at times when you felt judged for being good at science and see if there are alternative explanations. How does that sound? \\nClient: That sounds like a good approach. I\\'m willing to explore these thoughts and see if we can find a more balanced perspective. \\nCounselor: Excellent. We can also work on developing coping strategies to help you manage these feelings, especially in social situations. This might involve practicing positive self-talk or setting small, achievable goals for social engagement. Are you comfortable with that? \\nClient: Yes, I\\'m comfortable with that. I\\'m looking forward to working on this together. \\nCounselor: Wonderful. We\\'ll take it step by step. For our next session, I\\'d like you to keep a journal of situations where you feel judged or isolated for being good at science. Note down your thoughts and feelings in those moments. This will help us identify patterns and work on them effectively. How does that sound? \\nClient: That sounds like a good plan. I\\'ll keep a journal and bring it to our next session. Thank you for your support and guidance. I\\'m looking forward to our work together. \\nCounselor: You\\'re welcome, Nick. I\\'m glad to hear that. Remember, this is a process, and we\\'ll take it one step at a time. I look forward to our next session. Take care. \\nCounselor: Thank you, Nick. Have a good week ahead. See you next time. \\nCounselor: Take care, Nick. See you next time. \\nCounselor: Goodbye, Nick. See you next time. \\nCounselor: Goodbye, Nick. Take care. \\nCounselor: Goodbye. '}"
   ]
  },
  {
   "cell_type": "code",
   "execution_count": 34,
   "id": "1e708623",
   "metadata": {},
   "outputs": [
    {
     "name": "stdout",
     "output_type": "stream",
     "text": [
      "You are playing the role of a counselor in a psychological counseling session. Your task is to use the provided client information and counseling planning to generate the next counselor utterance in the dialogue. The goal is to create a natural and engaging response that builds on the previous conversation and aligns with the counseling plan.\n",
      "\n",
      "intake_form:\n",
      "Name: Nick Anderson Age: 23 Gender: male Occupation: Student Education: High School Student (10th Grade, Science concentration) Marital Status: Single Family Details: Lives in Florida, USA 2. Presenting Problem I have recently started feeling like being good at science makes me a geek and that I am perceived as anti-social because of it. These feelings started when I began high school, particularly in the past few months. I believe the cause of these thoughts is the stereotypes associated with being good at science. The problem has progressed as I have been avoiding social situations to not be labeled as a geek. I experience these thoughts mainly at school, especially in science-related classes or discussions. I have tried to engage in more social activities to counter these thoughts but have found it challenging. 3. Reason for Seeking Counseling I decided to seek counseling because these thoughts are impacting my self-esteem and social interactions negatively. 4. Past History (including medical history) I have not experienced similar problems before. I have not received treatment or counseling for psychological issues. I do not have any significant physical illnesses. 5. Academic/occupational functioning level: My academic performance in science is excellent, but my social interactions have been affected by these thoughts. Interpersonal relationships: I have started avoiding social interactions with classmates and friends. Daily life: My thoughts about being labeled as a geek have caused me to isolate myself and affected my self-esteem. 6. Social Support System I have parents and a sibling whom I can talk to, but they may not fully understand the intensity of my concerns surrounding these thoughts.\n",
      "\n",
      "Counseling Dialogue:\n",
      "null\n",
      "Counseling Dialogue:\n",
      "Counselor: I understand that you're feeling like being good at science makes you a geek and that this perception is affecting your social interactions. Can you tell me more about how these thoughts started and how they have progressed over time? \n",
      "Client: Yes, I began to feel this way when I started high school. I noticed that my classmates would look at me differently or treat me differently because of my interest in science. I think the stereotypes about geeks and how they are perceived in society play a big role in this. \n",
      "Counselor: It sounds like these stereotypes have had a significant impact on how you view yourself and how you think others view you. Can you describe a specific situation where you felt this way? \n",
      "Client: One situation that stands out is when we were discussing a science project in class. The way some classmates looked at me or treated me differently made me feel that they were judging me for being good at science. It was a moment where I felt isolated and misunderstood. \n",
      "Counselor: That must have been a difficult experience for you. How did you respond to those feelings at the time? \n",
      "Client: I tried to engage more in social activities to counter these thoughts, but it has been challenging. Sometimes, I avoid social situations to prevent being labeled as a geek. I find it hard to balance my interest in science with wanting to be accepted socially. \n",
      "Counselor: I see. It's understandable that you would want to find a balance between your passion for science and your desire to feel accepted by your peers. How has this issue affected your self-esteem and your interactions with classmates and friends? \n",
      "Client: It has impacted my self-esteem significantly. I feel that my interest in science is a double-edged sword – on one hand, it's something I'm passionate about, but on the other hand, it's something that makes me feel isolated and judged. I also find it challenging to engage in social activities, which affects my relationships with my classmates and friends. \n",
      "Counselor: It sounds like this issue is affecting multiple areas of your life. Have you been able to talk to your parents or sibling about these feelings? If so, how did they respond? \n",
      "Client: I have talked to them about my feelings, but they may not fully understand the intensity of my concerns. While they are supportive, they may not be able to provide the specific support and understanding that I need. \n",
      "Counselor: It's good that you have a support system, even if they may not fully grasp the depth of your feelings. Moving forward, we can work together to explore these thoughts and feelings in more detail. How do you feel about that? \n",
      "Client: I feel that working together can be helpful. I'm open to exploring these thoughts and finding ways to address them. \n",
      "Counselor: Great. One of the things we can do is to examine the evidence for and against these thoughts. For example, we can look at times when you felt judged for being good at science and see if there are alternative explanations. How does that sound? \n",
      "Client: That sounds like a good approach. I'm willing to explore these thoughts and see if we can find a more balanced perspective. \n",
      "Counselor: Excellent. We can also work on developing coping strategies to help you manage these feelings, especially in social situations. This might involve practicing positive self-talk or setting small, achievable goals for social engagement. Are you comfortable with that? \n",
      "Client: Yes, I'm comfortable with that. I'm looking forward to working on this together. \n",
      "Counselor: Wonderful. We'll take it step by step. For our next session, I'd like you to keep a journal of situations where you feel judged or isolated for being good at science. Note down your thoughts and feelings in those moments. This will help us identify patterns and work on them effectively. How does that sound? \n",
      "Client: That sounds like a good plan. I'll keep a journal and bring it to our next session. Thank you for your support and guidance. I'm looking forward to our work together. \n",
      "Counselor: You're welcome, Nick. I'm glad to hear that. Remember, this is a process, and we'll take it one step at a time. I look forward to our next session. Take care. \n",
      "Counselor: Thank you, Nick. Have a good week ahead. See you next time. \n",
      "Counselor: Take care, Nick. See you next time. \n",
      "Counselor: Goodbye, Nick. See you next time. \n",
      "Counselor: Goodbye, Nick. Take care. \n",
      "Counselor: Goodbye. \n"
     ]
    }
   ],
   "source": [
    "print(generatedtext['generated_text'])"
   ]
  },
  {
   "cell_type": "code",
   "execution_count": 35,
   "id": "bbfae32c",
   "metadata": {},
   "outputs": [],
   "source": [
    "total = \"\"\"Counselor: I understand that you're feeling like being good at science makes you a geek and that this perception is affecting your social interactions. Can you tell me more about how these thoughts started and how they have progressed over time? \n",
    "Client: Yes, I began to feel this way when I started high school. I noticed that my classmates would look at me differently or treat me differently because of my interest in science. I think the stereotypes about geeks and how they are perceived in society play a big role in this. \n",
    "Counselor: It sounds like these stereotypes have had a significant impact on how you view yourself and how you think others view you. Can you describe a specific situation where you felt this way? \n",
    "Client: One situation that stands out is when we were discussing a science project in class. The way some classmates looked at me or treated me differently made me feel that they were judging me for being good at science. It was a moment where I felt isolated and misunderstood. \n",
    "Counselor: That must have been a difficult experience for you. How did you respond to those feelings at the time? \n",
    "Client: I tried to engage more in social activities to counter these thoughts, but it has been challenging. Sometimes, I avoid social situations to prevent being labeled as a geek. I find it hard to balance my interest in science with wanting to be accepted socially. \n",
    "Counselor: I see. It's understandable that you would want to find a balance between your passion for science and your desire to feel accepted by your peers. How has this issue affected your self-esteem and your interactions with classmates and friends? \n",
    "Client: It has impacted my self-esteem significantly. I feel that my interest in science is a double-edged sword – on one hand, it's something I'm passionate about, but on the other hand, it's something that makes me feel isolated and judged. I also find it challenging to engage in social activities, which affects my relationships with my classmates and friends. \n",
    "Counselor: It sounds like this issue is affecting multiple areas of your life. Have you been able to talk to your parents or sibling about these feelings? If so, how did they respond? \n",
    "Client: I have talked to them about my feelings, but they may not fully understand the intensity of my concerns. While they are supportive, they may not be able to provide the specific support and understanding that I need. \n",
    "Counselor: It's good that you have a support system, even if they may not fully grasp the depth of your feelings. Moving forward, we can work together to explore these thoughts and feelings in more detail. How do you feel about that? \n",
    "Client: I feel that working together can be helpful. I'm open to exploring these thoughts and finding ways to address them. \n",
    "Counselor: Great. One of the things we can do is to examine the evidence for and against these thoughts. For example, we can look at times when you felt judged for being good at science and see if there are alternative explanations. How does that sound? \n",
    "Client: That sounds like a good approach. I'm willing to explore these thoughts and see if we can find a more balanced perspective. \n",
    "Counselor: Excellent. We can also work on developing coping strategies to help you manage these feelings, especially in social situations. This might involve practicing positive self-talk or setting small, achievable goals for social engagement. Are you comfortable with that? \n",
    "Client: Yes, I'm comfortable with that. I'm looking forward to working on this together. \n",
    "Counselor: Wonderful. We'll take it step by step. For our next session, I'd like you to keep a journal of situations where you feel judged or isolated for being good at science. Note down your thoughts and feelings in those moments. This will help us identify patterns and work on them effectively. How does that sound? \n",
    "Client: That sounds like a good plan. I'll keep a journal and bring it to our next session. Thank you for your support and guidance. I'm looking forward to our work together. \n",
    "Counselor: You're welcome, Nick. I'm glad to hear that. Remember, this is a process, and we'll take it one step at a time. I look forward to our next session. Take care. \n",
    "Counselor: Thank you, Nick. Have a good week ahead. See you next time. \n",
    "Counselor: Take care, Nick. See you next time. \n",
    "Counselor: Goodbye, Nick. See you next time. \n",
    "Counselor: Goodbye, Nick. Take care. \n",
    "Counselor: Goodbye.\"\"\""
   ]
  },
  {
   "cell_type": "code",
   "execution_count": 36,
   "id": "fd6b4ba1",
   "metadata": {},
   "outputs": [
    {
     "data": {
      "text/plain": [
       "\"Counselor: I understand that you're feeling like being good at science makes you a geek and that this perception is affecting your social interactions. Can you tell me more about how these thoughts started and how they have progressed over time? \\nClient: Yes, I began to feel this way when I started high school. I noticed that my classmates would look at me differently or treat me differently because of my interest in science. I think the stereotypes about geeks and how they are perceived in society play a big role in this. \\nCounselor: It sounds like these stereotypes have had a significant impact on how you view yourself and how you think others view you. Can you describe a specific situation where you felt this way? \\nClient: One situation that stands out is when we were discussing a science project in class. The way some classmates looked at me or treated me differently made me feel that they were judging me for being good at science. It was a moment where I felt isolated and misunderstood. \\nCounselor: That must have been a difficult experience for you. How did you respond to those feelings at the time? \\nClient: I tried to engage more in social activities to counter these thoughts, but it has been challenging. Sometimes, I avoid social situations to prevent being labeled as a geek. I find it hard to balance my interest in science with wanting to be accepted socially. \\nCounselor: I see. It's understandable that you would want to find a balance between your passion for science and your desire to feel accepted by your peers. How has this issue affected your self-esteem and your interactions with classmates and friends? \\nClient: It has impacted my self-esteem significantly. I feel that my interest in science is a double-edged sword – on one hand, it's something I'm passionate about, but on the other hand, it's something that makes me feel isolated and judged. I also find it challenging to engage in social activities, which affects my relationships with my classmates and friends. \\nCounselor: It sounds like this issue is affecting multiple areas of your life. Have you been able to talk to your parents or sibling about these feelings? If so, how did they respond? \\nClient: I have talked to them about my feelings, but they may not fully understand the intensity of my concerns. While they are supportive, they may not be able to provide the specific support and understanding that I need. \\nCounselor: It's good that you have a support system, even if they may not fully grasp the depth of your feelings. Moving forward, we can work together to explore these thoughts and feelings in more detail. How do you feel about that? \\nClient: I feel that working together can be helpful. I'm open to exploring these thoughts and finding ways to address them. \\nCounselor: Great. One of the things we can do is to examine the evidence for and against these thoughts. For example, we can look at times when you felt judged for being good at science and see if there are alternative explanations. How does that sound? \\nClient: That sounds like a good approach. I'm willing to explore these thoughts and see if we can find a more balanced perspective. \\nCounselor: Excellent. We can also work on developing coping strategies to help you manage these feelings, especially in social situations. This might involve practicing positive self-talk or setting small, achievable goals for social engagement. Are you comfortable with that? \\nClient: Yes, I'm comfortable with that. I'm looking forward to working on this together. \\nCounselor: Wonderful. We'll take it step by step. For our next session, I'd like you to keep a journal of situations where you feel judged or isolated for being good at science. Note down your thoughts and feelings in those moments. This will help us identify patterns and work on them effectively. How does that sound? \\nClient: That sounds like a good plan. I'll keep a journal and bring it to our next session. Thank you for your support and guidance. I'm looking forward to our work together. \\nCounselor: You're welcome, Nick. I'm glad to hear that. Remember, this is a process, and we'll take it one step at a time. I look forward to our next session. Take care. \\nCounselor: Thank you, Nick. Have a good week ahead. See you next time. \\nCounselor: Take care, Nick. See you next time. \\nCounselor: Goodbye, Nick. See you next time. \\nCounselor: Goodbye, Nick. Take care. \\nCounselor: Goodbye.\""
      ]
     },
     "execution_count": 36,
     "metadata": {},
     "output_type": "execute_result"
    }
   ],
   "source": [
    "total"
   ]
  },
  {
   "cell_type": "code",
   "execution_count": null,
   "id": "1d02d12e",
   "metadata": {},
   "outputs": [],
   "source": []
  }
 ],
 "metadata": {
  "kernelspec": {
   "display_name": "Python 3 (ipykernel)",
   "language": "python",
   "name": "python3"
  },
  "language_info": {
   "codemirror_mode": {
    "name": "ipython",
    "version": 3
   },
   "file_extension": ".py",
   "mimetype": "text/x-python",
   "name": "python",
   "nbconvert_exporter": "python",
   "pygments_lexer": "ipython3",
   "version": "3.10.12"
  }
 },
 "nbformat": 4,
 "nbformat_minor": 5
}
