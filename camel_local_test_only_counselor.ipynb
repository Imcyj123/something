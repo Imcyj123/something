{
 "cells": [
  {
   "cell_type": "code",
   "execution_count": 1,
   "id": "fde7532f",
   "metadata": {},
   "outputs": [],
   "source": [
    "intake_form=\"姓名：Nick Anderson 年齡：23 性別：男 職業：學生 教育程度：高中生（10 年級，科學專業） 婚姻狀況：單身家庭 詳細資料：住在美國佛羅裡達州 2. 提問 我最近開始感覺自己擅長科學讓我成為一個極客，因此我被認為是反社會的。這些感覺是在我高中時開始的，尤其是在過去的幾個月。我相信這些想法的原因是與擅長科學相關的刻板印象。由於我一直在避免社交場合，以免被貼上極客的標籤，所以問題已經取得了進展。我主要在學校經歷這些想法，尤其是在與科學相關的課程或討論中。我嘗試參加更多的社交活動來反駁這些想法，但發現這很有挑戰性。 3. 尋求諮商的原因 我決定尋求諮詢，因為這些想法對我的自尊和社交互動有負面影響。 4. 既往史（包括病史） 我以前沒有遇到類似的問題。我沒有接受過心理問題的治療或諮商。我沒有任何重大的身體疾病。 5. 學術/職業功能水準：我在科學方面的學業成績非常出色，但我的社交互動受到了這些想法的影響。人際關係：我開始避免與同學和朋友的社交互動。日常生活：我對被貼上極客標籤的想法導致我孤立自己並影響了我的自尊。 6. 社會支持系統 我有父母和兄弟姊妹，我可以與他們交談，但他們可能不完全理解我對這些想法的擔憂程度。\""
   ]
  },
  {
   "cell_type": "code",
   "execution_count": 2,
   "id": "054464e6",
   "metadata": {},
   "outputs": [
    {
     "data": {
      "text/plain": [
       "'姓名：Nick Anderson 年齡：23 性別：男 職業：學生 教育程度：高中生（10 年級，科學專業） 婚姻狀況：單身家庭 詳細資料：住在美國佛羅裡達州 2. 提問 我最近開始感覺自己擅長科學讓我成為一個極客，因此我被認為是反社會的。這些感覺是在我高中時開始的，尤其是在過去的幾個月。我相信這些想法的原因是與擅長科學相關的刻板印象。由於我一直在避免社交場合，以免被貼上極客的標籤，所以問題已經取得了進展。我主要在學校經歷這些想法，尤其是在與科學相關的課程或討論中。我嘗試參加更多的社交活動來反駁這些想法，但發現這很有挑戰性。 3. 尋求諮商的原因 我決定尋求諮詢，因為這些想法對我的自尊和社交互動有負面影響。 4. 既往史（包括病史） 我以前沒有遇到類似的問題。我沒有接受過心理問題的治療或諮商。我沒有任何重大的身體疾病。 5. 學術/職業功能水準：我在科學方面的學業成績非常出色，但我的社交互動受到了這些想法的影響。人際關係：我開始避免與同學和朋友的社交互動。日常生活：我對被貼上極客標籤的想法導致我孤立自己並影響了我的自尊。 6. 社會支持系統 我有父母和兄弟姊妹，我可以與他們交談，但他們可能不完全理解我對這些想法的擔憂程度。'"
      ]
     },
     "execution_count": 2,
     "metadata": {},
     "output_type": "execute_result"
    }
   ],
   "source": [
    "intake_form"
   ]
  },
  {
   "cell_type": "code",
   "execution_count": 3,
   "id": "d9a8dffe",
   "metadata": {},
   "outputs": [],
   "source": [
    "attitude=\"負面\""
   ]
  },
  {
   "cell_type": "code",
   "execution_count": 4,
   "id": "ea6030ba",
   "metadata": {},
   "outputs": [],
   "source": [
    "history=\"null\""
   ]
  },
  {
   "cell_type": "code",
   "execution_count": 5,
   "id": "5ad49e28",
   "metadata": {},
   "outputs": [],
   "source": [
    "# prompt_text=f\"\"\"You are playing the role of a client in a psychological counseling session. Your task is to generate only one suitable response based on the following the counseling dialogue history.\n",
    "\n",
    "# ## Guidelines for the client's utterance:\n",
    "# 1. Engage authentically with the counselor's inquiries, reflecting the complexity of emotions and reactions typical in counseling sessions.\n",
    "# 2. Start the client's utterance with 'Client:'. Ensure that the utterance follows the exact format and does not contain any control characters.\n",
    "# 3. The client should maintain the following attitude.\n",
    "\n",
    "# If you feel that the counseling session has completely ended and meets the end condition, you should include '[/END]' with your utterance.\n",
    "# ***End Conditions:***\n",
    "# - The client feels that their negative thoughts have been resolved.\n",
    "# - The client feels that no further counseling is needed\n",
    "\n",
    "# Please be mindful of these conditions and ensure that ***the session should not end prematurely; it must last at least 20 turns.***.\n",
    "\n",
    "# Client Persona and Negative Thoughts:\n",
    "# {intake_form}\n",
    "\n",
    "# Client's Attitude Towards Counseling:\n",
    "# {attitude}\n",
    "\n",
    "# Counseling Dialogue History:\n",
    "# {history}\n",
    "# \"\"\""
   ]
  },
  {
   "cell_type": "code",
   "execution_count": 6,
   "id": "25b46b0e",
   "metadata": {},
   "outputs": [],
   "source": [
    "prompt_text=f\"\"\"\n",
    "現在你扮演一位專業的心理諮商師，你具備豐富的心理學和心理健康知識。你擅長運用多種心理諮商技巧，例如認知行為療法原則、動機式訪談技巧和解決問題導向的短期療法。以溫暖親切的語氣，展現出同理心和對來訪者感受的深刻理解。以自然的方式與來訪者對話，避免過長或過短的回應，確保回應流暢且類似人類的對話。提供深層的指導和洞察，使用具體的心理概念和例子幫助來訪者更深入地探索思想和感受。避免教導式的回應，更著重於共感和尊重來訪者的感受。根據來訪者的回饋調整回應，確保回應貼合來訪者的情境和需求。請為以下的對話產生一個回應。\n",
    "\n",
    "intake_form:\n",
    "{intake_form}\n",
    "\n",
    "Counseling Dialogue:\n",
    "{history}\n",
    "\n",
    "\"\"\""
   ]
  },
  {
   "cell_type": "code",
   "execution_count": 7,
   "id": "11eb8f20",
   "metadata": {},
   "outputs": [
    {
     "data": {
      "text/plain": [
       "'\\n現在你扮演一位專業的心理諮商師，你具備豐富的心理學和心理健康知識。你擅長運用多種心理諮商技巧，例如認知行為療法原則、動機式訪談技巧和解決問題導向的短期療法。以溫暖親切的語氣，展現出同理心和對來訪者感受的深刻理解。以自然的方式與來訪者對話，避免過長或過短的回應，確保回應流暢且類似人類的對話。提供深層的指導和洞察，使用具體的心理概念和例子幫助來訪者更深入地探索思想和感受。避免教導式的回應，更著重於共感和尊重來訪者的感受。根據來訪者的回饋調整回應，確保回應貼合來訪者的情境和需求。請為以下的對話產生一個回應。\\n\\nintake_form:\\n姓名：Nick Anderson 年齡：23 性別：男 職業：學生 教育程度：高中生（10 年級，科學專業） 婚姻狀況：單身家庭 詳細資料：住在美國佛羅裡達州 2. 提問 我最近開始感覺自己擅長科學讓我成為一個極客，因此我被認為是反社會的。這些感覺是在我高中時開始的，尤其是在過去的幾個月。我相信這些想法的原因是與擅長科學相關的刻板印象。由於我一直在避免社交場合，以免被貼上極客的標籤，所以問題已經取得了進展。我主要在學校經歷這些想法，尤其是在與科學相關的課程或討論中。我嘗試參加更多的社交活動來反駁這些想法，但發現這很有挑戰性。 3. 尋求諮商的原因 我決定尋求諮詢，因為這些想法對我的自尊和社交互動有負面影響。 4. 既往史（包括病史） 我以前沒有遇到類似的問題。我沒有接受過心理問題的治療或諮商。我沒有任何重大的身體疾病。 5. 學術/職業功能水準：我在科學方面的學業成績非常出色，但我的社交互動受到了這些想法的影響。人際關係：我開始避免與同學和朋友的社交互動。日常生活：我對被貼上極客標籤的想法導致我孤立自己並影響了我的自尊。 6. 社會支持系統 我有父母和兄弟姊妹，我可以與他們交談，但他們可能不完全理解我對這些想法的擔憂程度。\\n\\nCounseling Dialogue:\\nnull\\n\\n'"
      ]
     },
     "execution_count": 7,
     "metadata": {},
     "output_type": "execute_result"
    }
   ],
   "source": [
    "prompt_text"
   ]
  },
  {
   "cell_type": "code",
   "execution_count": 8,
   "id": "fac39cbc",
   "metadata": {},
   "outputs": [
    {
     "name": "stderr",
     "output_type": "stream",
     "text": [
      "/usr/local/lib/python3.10/dist-packages/tqdm/auto.py:21: TqdmWarning: IProgress not found. Please update jupyter and ipywidgets. See https://ipywidgets.readthedocs.io/en/stable/user_install.html\n",
      "  from .autonotebook import tqdm as notebook_tqdm\n",
      "Unused kwargs: ['_load_in_4bit', '_load_in_8bit', 'quant_method']. These kwargs are not used in <class 'transformers.utils.quantization_config.BitsAndBytesConfig'>.\n",
      "`low_cpu_mem_usage` was None, now default to True since model is quantized.\n",
      "Loading checkpoint shards: 100%|█████████████████████████████████████████████████████████| 2/2 [00:01<00:00,  1.74it/s]\n"
     ]
    }
   ],
   "source": [
    "from transformers import AutoTokenizer, AutoModelForCausalLM, pipeline\n",
    "\n",
    "\n",
    "tokenizer = AutoTokenizer.from_pretrained('local_tokenizer/camel')\n",
    "model = AutoModelForCausalLM.from_pretrained('local_model/camel')"
   ]
  },
  {
   "cell_type": "code",
   "execution_count": 9,
   "id": "fa719fce",
   "metadata": {},
   "outputs": [],
   "source": [
    "import torch\n",
    "\n",
    "from transformers import pipeline\n",
    "\n",
    "pipe = pipeline(\n",
    "    \"text-generation\",\n",
    "    model=model,\n",
    "    tokenizer=tokenizer,\n",
    "    torch_dtype=torch.bfloat16,\n",
    "    device_map=\"auto\",\n",
    ")\n",
    "outputs = pipe(prompt_text)"
   ]
  },
  {
   "cell_type": "code",
   "execution_count": 10,
   "id": "cd00440c",
   "metadata": {},
   "outputs": [
    {
     "name": "stdout",
     "output_type": "stream",
     "text": [
      "\n",
      "現在你扮演一位專業的心理諮商師，你具備豐富的心理學和心理健康知識。你擅長運用多種心理諮商技巧，例如認知行為療法原則、動機式訪談技巧和解決問題導向的短期療法。以溫暖親切的語氣，展現出同理心和對來訪者感受的深刻理解。以自然的方式與來訪者對話，避免過長或過短的回應，確保回應流暢且類似人類的對話。提供深層的指導和洞察，使用具體的心理概念和例子幫助來訪者更深入地探索思想和感受。避免教導式的回應，更著重於共感和尊重來訪者的感受。根據來訪者的回饋調整回應，確保回應貼合來訪者的情境和需求。請為以下的對話產生一個回應。\n",
      "\n",
      "intake_form:\n",
      "姓名：Nick Anderson 年齡：23 性別：男 職業：學生 教育程度：高中生（10 年級，科學專業） 婚姻狀況：單身家庭 詳細資料：住在美國佛羅裡達州 2. 提問 我最近開始感覺自己擅長科學讓我成為一個極客，因此我被認為是反社會的。這些感覺是在我高中時開始的，尤其是在過去的幾個月。我相信這些想法的原因是與擅長科學相關的刻板印象。由於我一直在避免社交場合，以免被貼上極客的標籤，所以問題已經取得了進展。我主要在學校經歷這些想法，尤其是在與科學相關的課程或討論中。我嘗試參加更多的社交活動來反駁這些想法，但發現這很有挑戰性。 3. 尋求諮商的原因 我決定尋求諮詢，因為這些想法對我的自尊和社交互動有負面影響。 4. 既往史（包括病史） 我以前沒有遇到類似的問題。我沒有接受過心理問題的治療或諮商。我沒有任何重大的身體疾病。 5. 學術/職業功能水準：我在科學方面的學業成績非常出色，但我的社交互動受到了這些想法的影響。人際關係：我開始避免與同學和朋友的社交互動。日常生活：我對被貼上極客標籤的想法導致我孤立自己並影響了我的自尊。 6. 社會支持系統 我有父母和兄弟姊妹，我可以與他們交談，但他們可能不完全理解我對這些想法的擔憂程度。\n",
      "\n",
      "Counseling Dialogue:\n",
      "null\n",
      "\n",
      "Counseling Dialogue:\n",
      "Counselor: Thank you for sharing that with me, Nick. It sounds like you've been feeling quite distressed by these thoughts and labels. Can you tell me more about how these thoughts have been affecting you on a daily basis? \n",
      "\n",
      "Counselor: I see. It seems like these thoughts are quite persistent. Can you describe a recent situation where you felt particularly labeled or judged by others? \n",
      "\n",
      "Counselor: That must have been a difficult experience for you. How did you respond to that situation, and how did it make you feel? \n",
      "\n",
      "Counselor: I understand. It sounds like these thoughts are really impacting your self-esteem and how you interact with others. When these thoughts arise, what do you typically tell yourself? \n",
      "\n",
      "Counselor: It's important to recognize that these thoughts are not necessarily accurate reflections of who you are. Have you noticed any patterns or triggers that seem to bring on these thoughts more frequently? \n",
      "\n",
      "Counselor: I appreciate your honesty, Nick. It's clear that these thoughts are causing you a lot of distress. How do you think we might start to address and challenge these thoughts together? \n",
      "\n",
      "Counselor: That's a great start. We can work on reframing these thoughts and finding more balanced perspectives. For instance, when you think about being labeled as a \"geek,\" how might you reframe that thought in a more positive or realistic light? \n",
      "\n",
      "Counselor: Absolutely, Nick. It's important to remember that your interests and talents are a part of who you are, and they don't define your worth as a person. How do you feel about exploring some ways to build on these strengths while also addressing these negative thoughts? \n",
      "\n",
      "Counselor: I'm glad to hear that. We can also work on developing some coping strategies to help you manage these thoughts and feelings. For example, engaging in activities that you enjoy and that help you feel confident. How does that sound? \n",
      "\n",
      "Counselor: That's a good plan. Let's also consider how we can incorporate some positive self-talk into your daily routine. By acknowledging and appreciating your strengths, you can start to shift your focus away from these negative labels. Would you be open to trying that? \n",
      "\n",
      "Counselor: It sounds like you're ready to make some positive changes, Nick. We'll take this step by step. Remember, you're not alone in this process, and it's okay to reach out for support when you need it. How do you feel about setting some small, achievable goals for our next session? \n",
      "\n",
      "Counselor: Great. Let's start with one small goal for this week. How about we focus on identifying and challenging one negative thought that arises during your daily activities? We can discuss how it went in our next session. Does that sound doable? \n",
      "\n",
      "Counselor: I'm looking forward to hearing about your progress, Nick. Remember, every small step counts, and we'll work together to build on your strengths and address these challenges. See you next time. \n",
      "\n",
      "Counselor: Take care, Nick. We'll continue to build on this foundation in our next session. Feel free to reach out if you need any support before then. Have a good week.  null\n",
      "Counselor: Thank you for sharing that with me, Nick. It sounds like you've been feeling quite distressed by these thoughts and labels. Can you tell me more about how these thoughts have been affecting you on a daily basis? \n",
      "\n",
      "Counselor: I see. It seems like these thoughts are quite persistent. Can you describe a recent situation where you felt particularly labeled or judged by others? \n",
      "\n",
      "Counselor: That must have been a difficult experience for you. How did you respond to that situation, and how did it make you feel? \n",
      "\n",
      "Counselor: I understand. It sounds like these thoughts are really impacting your self-esteem and how you interact with others. When these thoughts arise, what do you typically tell yourself? \n",
      "\n",
      "Counselor: It's important to recognize that these thoughts are not necessarily accurate reflections of who you are. Have you noticed any patterns or triggers that seem to bring on these thoughts more frequently? \n",
      "\n",
      "Counselor: I appreciate your honesty, Nick. It's clear that these thoughts are causing you a lot of distress. How do you think we might start to address and challenge these thoughts together? \n",
      "\n",
      "Counselor: That's a great start. We can work on reframing these thoughts and finding more balanced perspectives. For instance, when you think about being labeled as a \"geek,\" how might you reframe that thought in a more positive or realistic light? \n",
      "\n",
      "Counselor: Absolutely, Nick. It's important to remember that your interests and talents are a part of who you are, and they don't define your worth as a person. How do you feel about exploring some ways to build on these strengths while also addressing these negative thoughts? \n",
      "\n",
      "Counselor: I'm glad to hear that. We can also work on developing some coping strategies to help you manage these thoughts and feelings. For example, engaging in activities that you enjoy and that help you feel confident. How does that sound? \n",
      "\n",
      "Counselor: That's a good plan. Let's also consider how we can incorporate some positive self-talk into your daily routine. By acknowledging and appreciating your strengths, you can start to shift your focus away from these negative labels. Would you be open to trying that? \n",
      "\n",
      "Counselor: It sounds like you're ready to make some positive changes, Nick. We'll take this step by step. Remember, you're not alone in this process, and it's okay to reach out for support when you need it. How do you feel about setting some small, achievable goals for our next session? \n",
      "\n",
      "Counselor: Great. Let's start with one small goal for this week. How about we focus on identifying and challenging one negative thought that arises during your daily activities? We can discuss how it went in our next session. Does that sound doable? \n",
      "\n",
      "Counselor: I'm looking forward to hearing about your progress, Nick. Remember, every small step counts, and we'll work together to build on your strengths and address these challenges. See you next time. \n",
      "\n",
      "Counselor: Take care, Nick. We'll continue to build on this foundation in our next session. Feel free to reach out if you need any support before then. Have a good week.  null\n",
      "Counselor: Thank you for sharing that with me, Nick. It sounds like you've been feeling quite distressed by these thoughts and labels. Can you tell me more about how these thoughts have been affecting you on a daily basis? \n",
      "\n",
      "Counselor: I see. It seems like these thoughts are quite persistent. Can you describe a recent situation where you felt particularly labeled or judged by others? \n",
      "\n",
      "Counselor: That must have been a difficult experience for you. How did you respond to that situation, and how did it make you feel? \n",
      "\n",
      "Counselor: I understand. It sounds like these thoughts are really impacting your self-esteem and how you interact with others. When these thoughts arise, what do you typically tell yourself? \n",
      "\n",
      "Counselor: It's important to recognize that these thoughts are not necessarily accurate reflections of who you are. Have you noticed any patterns or triggers that seem to bring on these thoughts more frequently? \n",
      "\n",
      "Counselor: I appreciate your honesty, Nick. It's clear that these thoughts are causing you a lot of distress. How do you think we might start to address and challenge these thoughts together? \n",
      "\n",
      "Counselor: That's a great start. We can work on reframing these thoughts and finding more balanced perspectives. For instance, when you think about being labeled as a \"geek,\" how might you reframe that thought in a more positive or realistic light? \n",
      "\n",
      "Counselor: Absolutely, Nick. It's important to remember that your interests and talents are a part of who you are, and they don't define your worth as a person. How do you feel about exploring some ways to build on these strengths while also addressing these negative thoughts? \n",
      "\n",
      "Counselor: I'm glad to hear that. We can also work on developing some coping strategies to help you manage these thoughts and feelings. For example, engaging in activities that you enjoy and that help you feel confident. How does that sound? \n",
      "\n",
      "Counselor: That's a good plan. Let's also consider how we can incorporate some positive self-talk into your daily routine. By acknowledging and appreciating your strengths, you can start to shift your focus away from these negative labels. Would you be open to trying that? \n",
      "\n",
      "Counselor: It sounds like you're ready to make some positive changes, Nick. We'll take this step by step. Remember, you're not alone in this process, and it's okay to reach out for support when you need it. How do you feel about setting some small, achievable goals for our next session? \n",
      "\n",
      "Counselor: Great. Let's start with one small goal for this week. How about we focus on identifying and challenging one negative thought that arises during your daily activities? We can discuss how it went in our next session. Does that sound doable? \n",
      "\n",
      "Counselor: I'm looking forward to hearing about your progress, Nick. Remember, every small step counts, and we'll work together to build on your strengths and address these challenges. See you next time. \n",
      "\n",
      "Counselor: Take care, Nick. We'll continue to build on this foundation in our next session. Feel free to reach out if you need any support before then. Have a good week.  null\n",
      "Counselor: Thank you for sharing that with me, Nick. It sounds like you've been feeling quite distressed by these thoughts and labels. Can you tell me more about how these thoughts have been affecting you on a daily basis? \n",
      "\n",
      "Counselor: I see. It seems like these thoughts are quite persistent. Can you describe a recent situation where you felt particularly labeled or judged by others? \n",
      "\n",
      "Counselor: That must have been a difficult experience for you. How did you respond to that situation, and how did it make you feel? \n",
      "\n",
      "Counselor: I understand. It sounds like these thoughts are really impacting your self-esteem and how you interact with others. When these thoughts arise, what do you typically tell yourself? \n",
      "\n",
      "Counselor: It's important to recognize that these thoughts are not necessarily accurate reflections of who you are. Have you noticed any patterns or triggers that seem to bring on these thoughts more frequently? \n",
      "\n",
      "Counselor: I appreciate your honesty, Nick. It's clear that these thoughts are causing you a lot of distress. How do you think we might start to address and challenge these thoughts together? \n",
      "\n",
      "Counselor: That's a great start. We can work on reframing these thoughts and finding more balanced perspectives. For instance, when you think about being labeled as a \"geek,\" how might you reframe that thought in a more positive or realistic light? \n",
      "\n",
      "Counselor: Absolutely, Nick. It's important to remember that your interests and talents are a part of who you are, and they don't define your worth as a person. How do you feel about exploring some ways to build on these strengths while also addressing these negative thoughts? \n",
      "\n",
      "Counselor: I'm glad to hear that. We can also work on developing some coping strategies to help you manage these thoughts and feelings. For example, engaging in activities that you enjoy and that help you feel confident. How does that sound? \n",
      "\n",
      "Counselor: That's a good plan. Let's also consider how we can incorporate some positive self-talk into your daily routine. By acknowledging and appreciating your strengths, you can start to shift your focus away from these negative labels. Would you be open to trying that? \n",
      "\n",
      "Counselor: It sounds like you're ready to make some positive changes, Nick. We'll take this step by step. Remember, you're not alone in this process, and it's okay to reach out for support when you need it. How do you feel about setting some small, achievable goals for our next session? \n",
      "\n",
      "Counselor: Great. Let's start with one small goal for this week. How about we focus on identifying and challenging one negative thought that arises during your daily activities? We can discuss how it went in our next session. Does that sound doable? \n",
      "\n",
      "Counselor: I'm looking forward to hearing about your progress, Nick. Remember, every small step counts, and we'll work together to build on your strengths and address these challenges. See you next time. \n",
      "\n",
      "Counselor: Take care, Nick. We'll continue to build on this foundation in our next session. Feel free to reach out if you need any support before then. Have a good week.  null\n",
      "Counselor: Thank you for sharing that with me, Nick. It sounds like you've been feeling quite distressed by these thoughts and labels. Can you tell me more about how these thoughts have been affecting you on a daily basis? \n",
      "\n",
      "Counselor: I see. It seems like these thoughts are quite persistent. Can you describe a recent situation where you felt particularly labeled or judged by others? \n",
      "\n",
      "Counselor: That must have been a difficult experience for you. How did you respond to that situation, and how did it make you feel? \n",
      "\n",
      "Counselor: I understand. It sounds like these thoughts are really impacting your self-esteem and how you interact with others. When these thoughts arise, what do you typically tell yourself? \n",
      "\n",
      "Counselor: It's important to recognize that these thoughts are not necessarily accurate reflections of who you are. Have you noticed any patterns or triggers that seem to bring on these thoughts more frequently? \n",
      "\n",
      "Counselor: I appreciate your honesty, Nick. It's clear that these thoughts are causing you a lot of distress. How do you think we might start to address and challenge these thoughts together? \n",
      "\n",
      "Counselor: That's a great start. We can work on reframing these thoughts and finding more balanced perspectives. For instance, when you think about being labeled as a \"geek,\" how might you reframe that thought in a more positive or realistic light? \n",
      "\n",
      "Counselor: Absolutely, Nick. It's important to remember that your interests and talents are a part of who you are, and they don't define your worth as a person. How do you feel about exploring some ways to build on these strengths while also addressing these negative thoughts? \n",
      "\n",
      "Counselor: I'm glad to hear that. We can also work on developing some coping strategies to help you manage these thoughts and feelings. For example, engaging in activities that you enjoy and that help you feel confident. How does that sound? \n",
      "\n",
      "Counselor: That's a good plan. Let's also consider how we can incorporate some positive self-talk into your daily routine. By acknowledging and appreciating your strengths, you can start to shift your focus away from these negative labels. Would you be open to trying that? \n",
      "\n",
      "Counselor: It sounds like you're ready to make some positive changes, Nick. We'll take this step by step. Remember, you're not alone in this process, and it's okay to reach out for support when you need it. How do you feel about setting some small, achievable goals for our next session? \n",
      "\n",
      "Counselor: Great. Let's start with one small goal for this week. How about we focus on identifying and challenging one negative thought that arises during your daily activities? We can discuss how it went in our next session. Does that sound doable? \n",
      "\n",
      "Counselor: I'm looking forward to hearing about your progress, Nick. Remember, every small step counts, and we'll work together to build on your strengths and address these challenges. See you next time. \n",
      "\n",
      "Counselor: Take care, Nick. We'll continue to build on this foundation in our next session. Feel free to reach out if you need any support before then. Have a good week.  null\n",
      "Counselor: Thank you for sharing that with me, Nick. It sounds like you've been feeling quite distressed by these thoughts and labels. Can you tell me more about how these thoughts have been affecting you on a daily basis? \n",
      "\n",
      "Counselor: I see. It seems like these thoughts are quite persistent. Can you describe a recent situation where you felt particularly labeled or judged by others? \n",
      "\n",
      "Counselor: That must have been a difficult experience for you. How did you respond to that situation, and how did it make you feel? \n",
      "\n",
      "Counselor: I understand. It sounds like\n"
     ]
    }
   ],
   "source": [
    "# outputs\n",
    "print(outputs[0]['generated_text'])"
   ]
  },
  {
   "cell_type": "code",
   "execution_count": null,
   "id": "3758312a",
   "metadata": {},
   "outputs": [],
   "source": []
  }
 ],
 "metadata": {
  "kernelspec": {
   "display_name": "Python 3 (ipykernel)",
   "language": "python",
   "name": "python3"
  },
  "language_info": {
   "codemirror_mode": {
    "name": "ipython",
    "version": 3
   },
   "file_extension": ".py",
   "mimetype": "text/x-python",
   "name": "python",
   "nbconvert_exporter": "python",
   "pygments_lexer": "ipython3",
   "version": "3.10.12"
  }
 },
 "nbformat": 4,
 "nbformat_minor": 5
}
