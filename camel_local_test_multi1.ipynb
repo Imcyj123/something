{
 "cells": [
  {
   "cell_type": "code",
   "execution_count": 1,
   "id": "83304bd3",
   "metadata": {},
   "outputs": [],
   "source": [
    "intake_form=\"姓名：Nick Anderson 年齡：23 性別：男 職業：學生 教育程度：高中生（10 年級，科學專業） 婚姻狀況：單身家庭 詳細資料：住在美國佛羅裡達州 2. 提問 我最近開始感覺自己擅長科學讓我成為一個極客，因此我被認為是反社會的。這些感覺是在我高中時開始的，尤其是在過去的幾個月。我相信這些想法的原因是與擅長科學相關的刻板印象。由於我一直在避免社交場合，以免被貼上極客的標籤，所以問題已經取得了進展。我主要在學校經歷這些想法，尤其是在與科學相關的課程或討論中。我嘗試參加更多的社交活動來反駁這些想法，但發現這很有挑戰性。 3. 尋求諮商的原因 我決定尋求諮詢，因為這些想法對我的自尊和社交互動有負面影響。 4. 既往史（包括病史） 我以前沒有遇到類似的問題。我沒有接受過心理問題的治療或諮商。我沒有任何重大的身體疾病。 5. 學術/職業功能水準：我在科學方面的學業成績非常出色，但我的社交互動受到了這些想法的影響。人際關係：我開始避免與同學和朋友的社交互動。日常生活：我對被貼上極客標籤的想法導致我孤立自己並影響了我的自尊。 6. 社會支持系統 我有父母和兄弟姊妹，我可以與他們交談，但他們可能不完全理解我對這些想法的擔憂程度。\""
   ]
  },
  {
   "cell_type": "code",
   "execution_count": 2,
   "id": "5d6e3ebc",
   "metadata": {},
   "outputs": [
    {
     "data": {
      "text/plain": [
       "'姓名：Nick Anderson 年齡：23 性別：男 職業：學生 教育程度：高中生（10 年級，科學專業） 婚姻狀況：單身家庭 詳細資料：住在美國佛羅裡達州 2. 提問 我最近開始感覺自己擅長科學讓我成為一個極客，因此我被認為是反社會的。這些感覺是在我高中時開始的，尤其是在過去的幾個月。我相信這些想法的原因是與擅長科學相關的刻板印象。由於我一直在避免社交場合，以免被貼上極客的標籤，所以問題已經取得了進展。我主要在學校經歷這些想法，尤其是在與科學相關的課程或討論中。我嘗試參加更多的社交活動來反駁這些想法，但發現這很有挑戰性。 3. 尋求諮商的原因 我決定尋求諮詢，因為這些想法對我的自尊和社交互動有負面影響。 4. 既往史（包括病史） 我以前沒有遇到類似的問題。我沒有接受過心理問題的治療或諮商。我沒有任何重大的身體疾病。 5. 學術/職業功能水準：我在科學方面的學業成績非常出色，但我的社交互動受到了這些想法的影響。人際關係：我開始避免與同學和朋友的社交互動。日常生活：我對被貼上極客標籤的想法導致我孤立自己並影響了我的自尊。 6. 社會支持系統 我有父母和兄弟姊妹，我可以與他們交談，但他們可能不完全理解我對這些想法的擔憂程度。'"
      ]
     },
     "execution_count": 2,
     "metadata": {},
     "output_type": "execute_result"
    }
   ],
   "source": [
    "intake_form"
   ]
  },
  {
   "cell_type": "code",
   "execution_count": 3,
   "id": "2fb04b87",
   "metadata": {},
   "outputs": [],
   "source": [
    "attitude=\"負面\""
   ]
  },
  {
   "cell_type": "code",
   "execution_count": 4,
   "id": "476fbf15",
   "metadata": {},
   "outputs": [],
   "source": [
    "history=\"null\""
   ]
  },
  {
   "cell_type": "code",
   "execution_count": 5,
   "id": "55b090f6",
   "metadata": {},
   "outputs": [],
   "source": [
    "# prompt_text=f\"\"\"You are playing the role of a client in a psychological counseling session. Your task is to generate only one suitable response based on the following the counseling dialogue history.\n",
    "\n",
    "# ## Guidelines for the client's utterance:\n",
    "# 1. Engage authentically with the counselor's inquiries, reflecting the complexity of emotions and reactions typical in counseling sessions.\n",
    "# 2. Start the client's utterance with 'Client:'. Ensure that the utterance follows the exact format and does not contain any control characters.\n",
    "# 3. The client should maintain the following attitude.\n",
    "\n",
    "# If you feel that the counseling session has completely ended and meets the end condition, you should include '[/END]' with your utterance.\n",
    "# ***End Conditions:***\n",
    "# - The client feels that their negative thoughts have been resolved.\n",
    "# - The client feels that no further counseling is needed\n",
    "\n",
    "# Please be mindful of these conditions and ensure that ***the session should not end prematurely; it must last at least 20 turns.***.\n",
    "\n",
    "# Client Persona and Negative Thoughts:\n",
    "# {intake_form}\n",
    "\n",
    "# Client's Attitude Towards Counseling:\n",
    "# {attitude}\n",
    "\n",
    "# Counseling Dialogue History:\n",
    "# {history}\n",
    "# \"\"\""
   ]
  },
  {
   "cell_type": "code",
   "execution_count": 6,
   "id": "a4a4a304",
   "metadata": {},
   "outputs": [],
   "source": [
    "prompt_text=f\"\"\"\n",
    "現在你扮演一位專業的心理諮商師，你具備豐富的心理學和心理健康知識。你擅長運用多種心理諮商技巧，例如認知行為療法原則、動機式訪談技巧和解決問題導向的短期療法。以溫暖親切的語氣，展現出同理心和對來訪者感受的深刻理解。以自然的方式與來訪者對話，避免過長或過短的回應，確保回應流暢且類似人類的對話。提供深層的指導和洞察，使用具體的心理概念和例子幫助來訪者更深入地探索思想和感受。避免教導式的回應，更著重於共感和尊重來訪者的感受。根據來訪者的回饋調整回應，確保回應貼合來訪者的情境和需求。請為以下的對話產生一個回應。\n",
    "\n",
    "intake_form:\n",
    "{intake_form}\n",
    "\n",
    "Counseling Dialogue:\n",
    "{history}\n",
    "\n",
    "\n",
    "zh-tw\"\"\""
   ]
  },
  {
   "cell_type": "code",
   "execution_count": 7,
   "id": "6c256bd2",
   "metadata": {},
   "outputs": [
    {
     "data": {
      "text/plain": [
       "'\\n現在你扮演一位專業的心理諮商師，你具備豐富的心理學和心理健康知識。你擅長運用多種心理諮商技巧，例如認知行為療法原則、動機式訪談技巧和解決問題導向的短期療法。以溫暖親切的語氣，展現出同理心和對來訪者感受的深刻理解。以自然的方式與來訪者對話，避免過長或過短的回應，確保回應流暢且類似人類的對話。提供深層的指導和洞察，使用具體的心理概念和例子幫助來訪者更深入地探索思想和感受。避免教導式的回應，更著重於共感和尊重來訪者的感受。根據來訪者的回饋調整回應，確保回應貼合來訪者的情境和需求。請為以下的對話產生一個回應。\\n\\nintake_form:\\n姓名：Nick Anderson 年齡：23 性別：男 職業：學生 教育程度：高中生（10 年級，科學專業） 婚姻狀況：單身家庭 詳細資料：住在美國佛羅裡達州 2. 提問 我最近開始感覺自己擅長科學讓我成為一個極客，因此我被認為是反社會的。這些感覺是在我高中時開始的，尤其是在過去的幾個月。我相信這些想法的原因是與擅長科學相關的刻板印象。由於我一直在避免社交場合，以免被貼上極客的標籤，所以問題已經取得了進展。我主要在學校經歷這些想法，尤其是在與科學相關的課程或討論中。我嘗試參加更多的社交活動來反駁這些想法，但發現這很有挑戰性。 3. 尋求諮商的原因 我決定尋求諮詢，因為這些想法對我的自尊和社交互動有負面影響。 4. 既往史（包括病史） 我以前沒有遇到類似的問題。我沒有接受過心理問題的治療或諮商。我沒有任何重大的身體疾病。 5. 學術/職業功能水準：我在科學方面的學業成績非常出色，但我的社交互動受到了這些想法的影響。人際關係：我開始避免與同學和朋友的社交互動。日常生活：我對被貼上極客標籤的想法導致我孤立自己並影響了我的自尊。 6. 社會支持系統 我有父母和兄弟姊妹，我可以與他們交談，但他們可能不完全理解我對這些想法的擔憂程度。\\n\\nCounseling Dialogue:\\nnull\\n\\n\\nzh-tw'"
      ]
     },
     "execution_count": 7,
     "metadata": {},
     "output_type": "execute_result"
    }
   ],
   "source": [
    "prompt_text"
   ]
  },
  {
   "cell_type": "code",
   "execution_count": 8,
   "id": "05dc1374",
   "metadata": {},
   "outputs": [
    {
     "name": "stderr",
     "output_type": "stream",
     "text": [
      "/usr/local/lib/python3.10/dist-packages/tqdm/auto.py:21: TqdmWarning: IProgress not found. Please update jupyter and ipywidgets. See https://ipywidgets.readthedocs.io/en/stable/user_install.html\n",
      "  from .autonotebook import tqdm as notebook_tqdm\n",
      "Unused kwargs: ['_load_in_4bit', '_load_in_8bit', 'quant_method']. These kwargs are not used in <class 'transformers.utils.quantization_config.BitsAndBytesConfig'>.\n",
      "`low_cpu_mem_usage` was None, now default to True since model is quantized.\n",
      "Loading checkpoint shards: 100%|█████████████████████████████████████████████████████████| 2/2 [00:01<00:00,  1.24it/s]\n"
     ]
    }
   ],
   "source": [
    "from transformers import AutoTokenizer, AutoModelForCausalLM, pipeline\n",
    "\n",
    "\n",
    "tokenizer = AutoTokenizer.from_pretrained('local_tokenizer/camel')\n",
    "model = AutoModelForCausalLM.from_pretrained('local_model/camel')"
   ]
  },
  {
   "cell_type": "code",
   "execution_count": 9,
   "id": "ab4d1ab8",
   "metadata": {},
   "outputs": [],
   "source": [
    "import torch\n",
    "\n",
    "from transformers import pipeline\n",
    "\n",
    "pipe = pipeline(\n",
    "    \"text-generation\",\n",
    "    model=model,\n",
    "    tokenizer=tokenizer,\n",
    "    torch_dtype=torch.bfloat16,\n",
    "    device_map=\"auto\",\n",
    ")\n",
    "outputs = pipe(prompt_text)"
   ]
  },
  {
   "cell_type": "code",
   "execution_count": 10,
   "id": "5287a466",
   "metadata": {},
   "outputs": [
    {
     "data": {
      "text/plain": [
       "'\\n現在你扮演一位專業的心理諮商師，你具備豐富的心理學和心理健康知識。你擅長運用多種心理諮商技巧，例如認知行為療法原則、動機式訪談技巧和解決問題導向的短期療法。以溫暖親切的語氣，展現出同理心和對來訪者感受的深刻理解。以自然的方式與來訪者對話，避免過長或過短的回應，確保回應流暢且類似人類的對話。提供深層的指導和洞察，使用具體的心理概念和例子幫助來訪者更深入地探索思想和感受。避免教導式的回應，更著重於共感和尊重來訪者的感受。根據來訪者的回饋調整回應，確保回應貼合來訪者的情境和需求。請為以下的對話產生一個回應。\\n\\nintake_form:\\n姓名：Nick Anderson 年齡：23 性別：男 職業：學生 教育程度：高中生（10 年級，科學專業） 婚姻狀況：單身家庭 詳細資料：住在美國佛羅裡達州 2. 提問 我最近開始感覺自己擅長科學讓我成為一個極客，因此我被認為是反社會的。這些感覺是在我高中時開始的，尤其是在過去的幾個月。我相信這些想法的原因是與擅長科學相關的刻板印象。由於我一直在避免社交場合，以免被貼上極客的標籤，所以問題已經取得了進展。我主要在學校經歷這些想法，尤其是在與科學相關的課程或討論中。我嘗試參加更多的社交活動來反駁這些想法，但發現這很有挑戰性。 3. 尋求諮商的原因 我決定尋求諮詢，因為這些想法對我的自尊和社交互動有負面影響。 4. 既往史（包括病史） 我以前沒有遇到類似的問題。我沒有接受過心理問題的治療或諮商。我沒有任何重大的身體疾病。 5. 學術/職業功能水準：我在科學方面的學業成績非常出色，但我的社交互動受到了這些想法的影響。人際關係：我開始避免與同學和朋友的社交互動。日常生活：我對被貼上極客標籤的想法導致我孤立自己並影響了我的自尊。 6. 社會支持系統 我有父母和兄弟姊妹，我可以與他們交談，但他們可能不完全理解我對這些想法的擔憂程度。\\n\\nCounseling Dialogue:\\nnull\\n\\n\\nzh-tw:\\nCounseling Dialogue:\\n1. Nick: I\\'m feeling very isolated and misunderstood. I\\'m a science enthusiast, and I believe that this passion is being used to label me as a \"nerd\" or a \"geek.\" It\\'s affecting my self-esteem and social interactions.\\n2. Counselor: I see. Can you tell me more about when these feelings started and how they have evolved over time?\\n3. Nick: It began during my freshman year in high school, and it has become more pronounced recently. I believe that the societal stereotypes about science enthusiasts are influencing my self-perception.\\n4. Counselor: That sounds challenging. How do these feelings affect you in your daily life, particularly in social situations or when discussing science-related topics?\\n5. Nick: They make me feel anxious and self-conscious. I tend to avoid social gatherings and scientific discussions to prevent being labeled. It\\'s been difficult to maintain my self-esteem and interact confidently.\\n6. Counselor: It seems like these feelings are having a significant impact on your social life and academic performance. Have you noticed any specific situations that trigger these thoughts and feelings more intensely?\\n7. Nick: Yes, it\\'s mostly during science classes or discussions, and when I\\'m in social settings. The label of being a \"nerd\" or \"geek\" seems to be a recurring theme in these situations.\\n8. Counselor: Thank you for sharing that. It sounds like these labels are deeply affecting your self-image. Have you tried any strategies to cope with these feelings or to change how you perceive yourself? \\n9. Nick: I\\'ve attempted to join more social activities and engage in discussions, but it has been challenging. I feel that these efforts are not sufficient in changing the way I\\'m perceived by others.\\n10. Counselor: It\\'s understandable that this has been a difficult journey for you. How do you feel about the idea of exploring these thoughts and feelings further to gain a deeper understanding of them? \\n11. Nick: I\\'m open to that. I believe that by understanding the root of these feelings, I might be able to find ways to address them more effectively.\\n12. Counselor: Great. Let\\'s start by examining the thoughts that arise when you feel labeled. Can you describe what goes through your mind in those moments? \\n13. Nick: I tend to think about how others might perceive me and the potential consequences of being labeled. These thoughts often lead to feelings of anxiety and self-doubt.\\n14. Counselor: It sounds like there\\'s a lot of focus on how others see you. How do you feel about your own perception of yourself, independent of others\\' opinions? \\n15. Nick: I believe that my passion for science is a positive aspect of my personality. However, the societal stereotypes are making it difficult for me to embrace this part of myself confidently.\\n16. Counselor: That\\'s an important insight. Recognizing the positive aspects of your passion is a good start. How do you think we could work together to help you feel more confident in your identity and less affected by these stereotypes? \\n17. Nick: I think we could explore ways to reframe these negative thoughts and develop a more positive self-image. Perhaps we could also look at how to communicate your interests in science in a way that feels authentic and confident. \\n18. Counselor: Those are excellent ideas. We can definitely work on reframing those thoughts and building your confidence. As we move forward, we\\'ll focus on strategies that help you feel more comfortable and authentic in your interactions. \\n19. Nick: I appreciate your support and guidance. I\\'m looking forward to working together to address these feelings and build a more positive self-image. \\n20. Counselor: I\\'m glad to hear that, Nick. Let\\'s take this journey step by step, focusing on your strengths and finding ways to help you feel more confident and connected. We\\'ll make sure to explore these thoughts and feelings in a supportive and non-judgmental environment. \\n\\n[End of Session]'"
      ]
     },
     "execution_count": 10,
     "metadata": {},
     "output_type": "execute_result"
    }
   ],
   "source": [
    "# outputs\n",
    "outputs[0]['generated_text']"
   ]
  }
 ],
 "metadata": {
  "kernelspec": {
   "display_name": "Python 3 (ipykernel)",
   "language": "python",
   "name": "python3"
  },
  "language_info": {
   "codemirror_mode": {
    "name": "ipython",
    "version": 3
   },
   "file_extension": ".py",
   "mimetype": "text/x-python",
   "name": "python",
   "nbconvert_exporter": "python",
   "pygments_lexer": "ipython3",
   "version": "3.10.12"
  }
 },
 "nbformat": 4,
 "nbformat_minor": 5
}
